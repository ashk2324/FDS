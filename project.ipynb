{
 "cells": [
  {
   "cell_type": "code",
   "execution_count": 1,
   "id": "40eb4d96",
   "metadata": {
    "execution": {
     "iopub.execute_input": "2021-11-16T13:42:30.919114Z",
     "iopub.status.busy": "2021-11-16T13:42:30.916991Z",
     "iopub.status.idle": "2021-11-16T13:42:31.845076Z",
     "shell.execute_reply": "2021-11-16T13:42:31.844303Z",
     "shell.execute_reply.started": "2021-11-16T13:37:19.719287Z"
    },
    "papermill": {
     "duration": 1.010512,
     "end_time": "2021-11-16T13:42:31.845263",
     "exception": false,
     "start_time": "2021-11-16T13:42:30.834751",
     "status": "completed"
    },
    "tags": []
   },
   "outputs": [],
   "source": [
    "import numpy as np, pandas as pd\n",
    "import matplotlib.pyplot as plt, seaborn as sns\n",
    "import warnings\n",
    "warnings.filterwarnings('ignore')"
   ]
  },
  {
   "cell_type": "code",
   "execution_count": 2,
   "id": "00e2c63c",
   "metadata": {
    "execution": {
     "iopub.execute_input": "2021-11-16T13:42:31.998468Z",
     "iopub.status.busy": "2021-11-16T13:42:31.997808Z",
     "iopub.status.idle": "2021-11-16T13:42:32.043963Z",
     "shell.execute_reply": "2021-11-16T13:42:32.044538Z",
     "shell.execute_reply.started": "2021-11-16T13:37:19.738171Z"
    },
    "papermill": {
     "duration": 0.123534,
     "end_time": "2021-11-16T13:42:32.044763",
     "exception": false,
     "start_time": "2021-11-16T13:42:31.921229",
     "status": "completed"
    },
    "tags": []
   },
   "outputs": [
    {
     "data": {
      "text/html": [
       "<div>\n",
       "<style scoped>\n",
       "    .dataframe tbody tr th:only-of-type {\n",
       "        vertical-align: middle;\n",
       "    }\n",
       "\n",
       "    .dataframe tbody tr th {\n",
       "        vertical-align: top;\n",
       "    }\n",
       "\n",
       "    .dataframe thead th {\n",
       "        text-align: right;\n",
       "    }\n",
       "</style>\n",
       "<table border=\"1\" class=\"dataframe\">\n",
       "  <thead>\n",
       "    <tr style=\"text-align: right;\">\n",
       "      <th></th>\n",
       "      <th>Education</th>\n",
       "      <th>JoiningYear</th>\n",
       "      <th>City</th>\n",
       "      <th>PaymentTier</th>\n",
       "      <th>Age</th>\n",
       "      <th>Gender</th>\n",
       "      <th>EverBenched</th>\n",
       "      <th>ExperienceInCurrentDomain</th>\n",
       "      <th>LeaveOrNot</th>\n",
       "    </tr>\n",
       "  </thead>\n",
       "  <tbody>\n",
       "    <tr>\n",
       "      <th>0</th>\n",
       "      <td>Bachelors</td>\n",
       "      <td>2017</td>\n",
       "      <td>Bangalore</td>\n",
       "      <td>3</td>\n",
       "      <td>34</td>\n",
       "      <td>Male</td>\n",
       "      <td>No</td>\n",
       "      <td>0</td>\n",
       "      <td>0</td>\n",
       "    </tr>\n",
       "    <tr>\n",
       "      <th>1</th>\n",
       "      <td>Bachelors</td>\n",
       "      <td>2013</td>\n",
       "      <td>Pune</td>\n",
       "      <td>1</td>\n",
       "      <td>28</td>\n",
       "      <td>Female</td>\n",
       "      <td>No</td>\n",
       "      <td>3</td>\n",
       "      <td>1</td>\n",
       "    </tr>\n",
       "    <tr>\n",
       "      <th>2</th>\n",
       "      <td>Bachelors</td>\n",
       "      <td>2014</td>\n",
       "      <td>New Delhi</td>\n",
       "      <td>3</td>\n",
       "      <td>38</td>\n",
       "      <td>Female</td>\n",
       "      <td>No</td>\n",
       "      <td>2</td>\n",
       "      <td>0</td>\n",
       "    </tr>\n",
       "    <tr>\n",
       "      <th>3</th>\n",
       "      <td>Masters</td>\n",
       "      <td>2016</td>\n",
       "      <td>Bangalore</td>\n",
       "      <td>3</td>\n",
       "      <td>27</td>\n",
       "      <td>Male</td>\n",
       "      <td>No</td>\n",
       "      <td>5</td>\n",
       "      <td>1</td>\n",
       "    </tr>\n",
       "    <tr>\n",
       "      <th>4</th>\n",
       "      <td>Masters</td>\n",
       "      <td>2017</td>\n",
       "      <td>Pune</td>\n",
       "      <td>3</td>\n",
       "      <td>24</td>\n",
       "      <td>Male</td>\n",
       "      <td>Yes</td>\n",
       "      <td>2</td>\n",
       "      <td>1</td>\n",
       "    </tr>\n",
       "  </tbody>\n",
       "</table>\n",
       "</div>"
      ],
      "text/plain": [
       "   Education  JoiningYear       City  PaymentTier  Age  Gender EverBenched  \\\n",
       "0  Bachelors         2017  Bangalore            3   34    Male          No   \n",
       "1  Bachelors         2013       Pune            1   28  Female          No   \n",
       "2  Bachelors         2014  New Delhi            3   38  Female          No   \n",
       "3    Masters         2016  Bangalore            3   27    Male          No   \n",
       "4    Masters         2017       Pune            3   24    Male         Yes   \n",
       "\n",
       "   ExperienceInCurrentDomain  LeaveOrNot  \n",
       "0                          0           0  \n",
       "1                          3           1  \n",
       "2                          2           0  \n",
       "3                          5           1  \n",
       "4                          2           1  "
      ]
     },
     "execution_count": 2,
     "metadata": {},
     "output_type": "execute_result"
    }
   ],
   "source": [
    "df= pd.read_csv('../input/employee-future-prediction/Employee.csv')\n",
    "df.head()"
   ]
  },
  {
   "cell_type": "code",
   "execution_count": 3,
   "id": "dc5fdb93",
   "metadata": {
    "execution": {
     "iopub.execute_input": "2021-11-16T13:42:32.258894Z",
     "iopub.status.busy": "2021-11-16T13:42:32.258172Z",
     "iopub.status.idle": "2021-11-16T13:42:32.283424Z",
     "shell.execute_reply": "2021-11-16T13:42:32.284334Z",
     "shell.execute_reply.started": "2021-11-16T13:37:19.766311Z"
    },
    "papermill": {
     "duration": 0.101852,
     "end_time": "2021-11-16T13:42:32.284635",
     "exception": false,
     "start_time": "2021-11-16T13:42:32.182783",
     "status": "completed"
    },
    "tags": []
   },
   "outputs": [
    {
     "name": "stdout",
     "output_type": "stream",
     "text": [
      "<class 'pandas.core.frame.DataFrame'>\n",
      "RangeIndex: 4653 entries, 0 to 4652\n",
      "Data columns (total 9 columns):\n",
      " #   Column                     Non-Null Count  Dtype \n",
      "---  ------                     --------------  ----- \n",
      " 0   Education                  4653 non-null   object\n",
      " 1   JoiningYear                4653 non-null   int64 \n",
      " 2   City                       4653 non-null   object\n",
      " 3   PaymentTier                4653 non-null   int64 \n",
      " 4   Age                        4653 non-null   int64 \n",
      " 5   Gender                     4653 non-null   object\n",
      " 6   EverBenched                4653 non-null   object\n",
      " 7   ExperienceInCurrentDomain  4653 non-null   int64 \n",
      " 8   LeaveOrNot                 4653 non-null   int64 \n",
      "dtypes: int64(5), object(4)\n",
      "memory usage: 327.3+ KB\n"
     ]
    }
   ],
   "source": [
    "df.info()"
   ]
  },
  {
   "cell_type": "code",
   "execution_count": 4,
   "id": "cde21d67",
   "metadata": {
    "execution": {
     "iopub.execute_input": "2021-11-16T13:42:32.437699Z",
     "iopub.status.busy": "2021-11-16T13:42:32.436984Z",
     "iopub.status.idle": "2021-11-16T13:42:32.470236Z",
     "shell.execute_reply": "2021-11-16T13:42:32.470828Z",
     "shell.execute_reply.started": "2021-11-16T13:37:19.782048Z"
    },
    "papermill": {
     "duration": 0.109375,
     "end_time": "2021-11-16T13:42:32.471016",
     "exception": false,
     "start_time": "2021-11-16T13:42:32.361641",
     "status": "completed"
    },
    "tags": []
   },
   "outputs": [
    {
     "data": {
      "text/html": [
       "<div>\n",
       "<style scoped>\n",
       "    .dataframe tbody tr th:only-of-type {\n",
       "        vertical-align: middle;\n",
       "    }\n",
       "\n",
       "    .dataframe tbody tr th {\n",
       "        vertical-align: top;\n",
       "    }\n",
       "\n",
       "    .dataframe thead th {\n",
       "        text-align: right;\n",
       "    }\n",
       "</style>\n",
       "<table border=\"1\" class=\"dataframe\">\n",
       "  <thead>\n",
       "    <tr style=\"text-align: right;\">\n",
       "      <th></th>\n",
       "      <th>count</th>\n",
       "      <th>mean</th>\n",
       "      <th>std</th>\n",
       "      <th>min</th>\n",
       "      <th>25%</th>\n",
       "      <th>50%</th>\n",
       "      <th>75%</th>\n",
       "      <th>max</th>\n",
       "    </tr>\n",
       "  </thead>\n",
       "  <tbody>\n",
       "    <tr>\n",
       "      <th>JoiningYear</th>\n",
       "      <td>4653.0</td>\n",
       "      <td>2015.062970</td>\n",
       "      <td>1.863377</td>\n",
       "      <td>2012.0</td>\n",
       "      <td>2013.0</td>\n",
       "      <td>2015.0</td>\n",
       "      <td>2017.0</td>\n",
       "      <td>2018.0</td>\n",
       "    </tr>\n",
       "    <tr>\n",
       "      <th>PaymentTier</th>\n",
       "      <td>4653.0</td>\n",
       "      <td>2.698259</td>\n",
       "      <td>0.561435</td>\n",
       "      <td>1.0</td>\n",
       "      <td>3.0</td>\n",
       "      <td>3.0</td>\n",
       "      <td>3.0</td>\n",
       "      <td>3.0</td>\n",
       "    </tr>\n",
       "    <tr>\n",
       "      <th>Age</th>\n",
       "      <td>4653.0</td>\n",
       "      <td>29.393295</td>\n",
       "      <td>4.826087</td>\n",
       "      <td>22.0</td>\n",
       "      <td>26.0</td>\n",
       "      <td>28.0</td>\n",
       "      <td>32.0</td>\n",
       "      <td>41.0</td>\n",
       "    </tr>\n",
       "    <tr>\n",
       "      <th>ExperienceInCurrentDomain</th>\n",
       "      <td>4653.0</td>\n",
       "      <td>2.905652</td>\n",
       "      <td>1.558240</td>\n",
       "      <td>0.0</td>\n",
       "      <td>2.0</td>\n",
       "      <td>3.0</td>\n",
       "      <td>4.0</td>\n",
       "      <td>7.0</td>\n",
       "    </tr>\n",
       "    <tr>\n",
       "      <th>LeaveOrNot</th>\n",
       "      <td>4653.0</td>\n",
       "      <td>0.343864</td>\n",
       "      <td>0.475047</td>\n",
       "      <td>0.0</td>\n",
       "      <td>0.0</td>\n",
       "      <td>0.0</td>\n",
       "      <td>1.0</td>\n",
       "      <td>1.0</td>\n",
       "    </tr>\n",
       "  </tbody>\n",
       "</table>\n",
       "</div>"
      ],
      "text/plain": [
       "                            count         mean       std     min     25%  \\\n",
       "JoiningYear                4653.0  2015.062970  1.863377  2012.0  2013.0   \n",
       "PaymentTier                4653.0     2.698259  0.561435     1.0     3.0   \n",
       "Age                        4653.0    29.393295  4.826087    22.0    26.0   \n",
       "ExperienceInCurrentDomain  4653.0     2.905652  1.558240     0.0     2.0   \n",
       "LeaveOrNot                 4653.0     0.343864  0.475047     0.0     0.0   \n",
       "\n",
       "                              50%     75%     max  \n",
       "JoiningYear                2015.0  2017.0  2018.0  \n",
       "PaymentTier                   3.0     3.0     3.0  \n",
       "Age                          28.0    32.0    41.0  \n",
       "ExperienceInCurrentDomain     3.0     4.0     7.0  \n",
       "LeaveOrNot                    0.0     1.0     1.0  "
      ]
     },
     "execution_count": 4,
     "metadata": {},
     "output_type": "execute_result"
    }
   ],
   "source": [
    "df.describe().T"
   ]
  },
  {
   "cell_type": "code",
   "execution_count": 5,
   "id": "cab82086",
   "metadata": {
    "execution": {
     "iopub.execute_input": "2021-11-16T13:42:32.619569Z",
     "iopub.status.busy": "2021-11-16T13:42:32.618902Z",
     "iopub.status.idle": "2021-11-16T13:42:32.629321Z",
     "shell.execute_reply": "2021-11-16T13:42:32.630147Z",
     "shell.execute_reply.started": "2021-11-16T13:37:19.814879Z"
    },
    "papermill": {
     "duration": 0.086672,
     "end_time": "2021-11-16T13:42:32.630337",
     "exception": false,
     "start_time": "2021-11-16T13:42:32.543665",
     "status": "completed"
    },
    "tags": []
   },
   "outputs": [
    {
     "data": {
      "text/plain": [
       "Education                    0\n",
       "JoiningYear                  0\n",
       "City                         0\n",
       "PaymentTier                  0\n",
       "Age                          0\n",
       "Gender                       0\n",
       "EverBenched                  0\n",
       "ExperienceInCurrentDomain    0\n",
       "LeaveOrNot                   0\n",
       "dtype: int64"
      ]
     },
     "execution_count": 5,
     "metadata": {},
     "output_type": "execute_result"
    }
   ],
   "source": [
    "df.isnull().sum()"
   ]
  },
  {
   "cell_type": "markdown",
   "id": "ee014988",
   "metadata": {
    "papermill": {
     "duration": 0.072035,
     "end_time": "2021-11-16T13:42:32.776723",
     "exception": false,
     "start_time": "2021-11-16T13:42:32.704688",
     "status": "completed"
    },
    "tags": []
   },
   "source": [
    "## EDA"
   ]
  },
  {
   "cell_type": "code",
   "execution_count": 6,
   "id": "3c871a9b",
   "metadata": {
    "execution": {
     "iopub.execute_input": "2021-11-16T13:42:32.926693Z",
     "iopub.status.busy": "2021-11-16T13:42:32.924534Z",
     "iopub.status.idle": "2021-11-16T13:42:32.933379Z",
     "shell.execute_reply": "2021-11-16T13:42:32.933908Z",
     "shell.execute_reply.started": "2021-11-16T13:37:19.826288Z"
    },
    "papermill": {
     "duration": 0.084326,
     "end_time": "2021-11-16T13:42:32.934112",
     "exception": false,
     "start_time": "2021-11-16T13:42:32.849786",
     "status": "completed"
    },
    "tags": []
   },
   "outputs": [
    {
     "data": {
      "text/plain": [
       "LeaveOrNot\n",
       "0    3053\n",
       "1    1600\n",
       "Name: LeaveOrNot, dtype: int64"
      ]
     },
     "execution_count": 6,
     "metadata": {},
     "output_type": "execute_result"
    }
   ],
   "source": [
    "df.groupby('LeaveOrNot')['LeaveOrNot'].count()"
   ]
  },
  {
   "cell_type": "code",
   "execution_count": 7,
   "id": "8bd09bcf",
   "metadata": {
    "execution": {
     "iopub.execute_input": "2021-11-16T13:42:33.090880Z",
     "iopub.status.busy": "2021-11-16T13:42:33.086444Z",
     "iopub.status.idle": "2021-11-16T13:42:33.247454Z",
     "shell.execute_reply": "2021-11-16T13:42:33.248033Z",
     "shell.execute_reply.started": "2021-11-16T13:37:19.841345Z"
    },
    "papermill": {
     "duration": 0.239545,
     "end_time": "2021-11-16T13:42:33.248233",
     "exception": false,
     "start_time": "2021-11-16T13:42:33.008688",
     "status": "completed"
    },
    "tags": []
   },
   "outputs": [
    {
     "data": {
      "image/png": "[encoded data removed]",
      "text/plain": [
       "<Figure size 432x288 with 1 Axes>"
      ]
     },
     "metadata": {},
     "output_type": "display_data"
    }
   ],
   "source": [
    "plt.pie(df.groupby('LeaveOrNot')['LeaveOrNot'].count(),labels=['NO','YES'],autopct='%.2f%%',radius=1.5,explode = (0, 0.1),shadow=True)\n",
    "plt.show()"
   ]
  },
  {
   "cell_type": "markdown",
   "id": "11a09dbd",
   "metadata": {
    "papermill": {
     "duration": 0.074184,
     "end_time": "2021-11-16T13:42:33.398982",
     "exception": false,
     "start_time": "2021-11-16T13:42:33.324798",
     "status": "completed"
    },
    "tags": []
   },
   "source": [
    "**Let's find proportion of employees leaving on the basis of various factors**"
   ]
  },
  {
   "cell_type": "markdown",
   "id": "95ab360a",
   "metadata": {
    "papermill": {
     "duration": 0.075499,
     "end_time": "2021-11-16T13:42:33.548781",
     "exception": false,
     "start_time": "2021-11-16T13:42:33.473282",
     "status": "completed"
    },
    "tags": []
   },
   "source": [
    "## Education"
   ]
  },
  {
   "cell_type": "code",
   "execution_count": 8,
   "id": "c4083325",
   "metadata": {
    "execution": {
     "iopub.execute_input": "2021-11-16T13:42:33.711754Z",
     "iopub.status.busy": "2021-11-16T13:42:33.710586Z",
     "iopub.status.idle": "2021-11-16T13:42:33.721873Z",
     "shell.execute_reply": "2021-11-16T13:42:33.722560Z",
     "shell.execute_reply.started": "2021-11-16T13:37:19.950028Z"
    },
    "papermill": {
     "duration": 0.096465,
     "end_time": "2021-11-16T13:42:33.722775",
     "exception": false,
     "start_time": "2021-11-16T13:42:33.626310",
     "status": "completed"
    },
    "tags": []
   },
   "outputs": [
    {
     "data": {
      "text/html": [
       "<div>\n",
       "<style scoped>\n",
       "    .dataframe tbody tr th:only-of-type {\n",
       "        vertical-align: middle;\n",
       "    }\n",
       "\n",
       "    .dataframe tbody tr th {\n",
       "        vertical-align: top;\n",
       "    }\n",
       "\n",
       "    .dataframe thead th {\n",
       "        text-align: right;\n",
       "    }\n",
       "</style>\n",
       "<table border=\"1\" class=\"dataframe\">\n",
       "  <thead>\n",
       "    <tr style=\"text-align: right;\">\n",
       "      <th></th>\n",
       "      <th></th>\n",
       "      <th>Education</th>\n",
       "    </tr>\n",
       "    <tr>\n",
       "      <th>Education</th>\n",
       "      <th>LeaveOrNot</th>\n",
       "      <th></th>\n",
       "    </tr>\n",
       "  </thead>\n",
       "  <tbody>\n",
       "    <tr>\n",
       "      <th rowspan=\"2\" valign=\"top\">Bachelors</th>\n",
       "      <th>0</th>\n",
       "      <td>2472</td>\n",
       "    </tr>\n",
       "    <tr>\n",
       "      <th>1</th>\n",
       "      <td>1129</td>\n",
       "    </tr>\n",
       "    <tr>\n",
       "      <th rowspan=\"2\" valign=\"top\">Masters</th>\n",
       "      <th>0</th>\n",
       "      <td>447</td>\n",
       "    </tr>\n",
       "    <tr>\n",
       "      <th>1</th>\n",
       "      <td>426</td>\n",
       "    </tr>\n",
       "    <tr>\n",
       "      <th rowspan=\"2\" valign=\"top\">PHD</th>\n",
       "      <th>0</th>\n",
       "      <td>134</td>\n",
       "    </tr>\n",
       "    <tr>\n",
       "      <th>1</th>\n",
       "      <td>45</td>\n",
       "    </tr>\n",
       "  </tbody>\n",
       "</table>\n",
       "</div>"
      ],
      "text/plain": [
       "                      Education\n",
       "Education LeaveOrNot           \n",
       "Bachelors 0                2472\n",
       "          1                1129\n",
       "Masters   0                 447\n",
       "          1                 426\n",
       "PHD       0                 134\n",
       "          1                  45"
      ]
     },
     "execution_count": 8,
     "metadata": {},
     "output_type": "execute_result"
    }
   ],
   "source": [
    "d1=pd.DataFrame(df.groupby(['Education','LeaveOrNot'])['Education'].count())\n",
    "d1"
   ]
  },
  {
   "cell_type": "code",
   "execution_count": 9,
   "id": "67c6f989",
   "metadata": {
    "execution": {
     "iopub.execute_input": "2021-11-16T13:42:33.883457Z",
     "iopub.status.busy": "2021-11-16T13:42:33.882749Z",
     "iopub.status.idle": "2021-11-16T13:42:33.901927Z",
     "shell.execute_reply": "2021-11-16T13:42:33.901309Z",
     "shell.execute_reply.started": "2021-11-16T13:37:19.963914Z"
    },
    "papermill": {
     "duration": 0.102098,
     "end_time": "2021-11-16T13:42:33.902117",
     "exception": false,
     "start_time": "2021-11-16T13:42:33.800019",
     "status": "completed"
    },
    "tags": []
   },
   "outputs": [
    {
     "data": {
      "text/html": [
       "<div>\n",
       "<style scoped>\n",
       "    .dataframe tbody tr th:only-of-type {\n",
       "        vertical-align: middle;\n",
       "    }\n",
       "\n",
       "    .dataframe tbody tr th {\n",
       "        vertical-align: top;\n",
       "    }\n",
       "\n",
       "    .dataframe thead th {\n",
       "        text-align: right;\n",
       "    }\n",
       "</style>\n",
       "<table border=\"1\" class=\"dataframe\">\n",
       "  <thead>\n",
       "    <tr style=\"text-align: right;\">\n",
       "      <th></th>\n",
       "      <th>Education</th>\n",
       "      <th>proportion</th>\n",
       "    </tr>\n",
       "  </thead>\n",
       "  <tbody>\n",
       "    <tr>\n",
       "      <th>1</th>\n",
       "      <td>Masters</td>\n",
       "      <td>0.487973</td>\n",
       "    </tr>\n",
       "    <tr>\n",
       "      <th>0</th>\n",
       "      <td>Bachelors</td>\n",
       "      <td>0.313524</td>\n",
       "    </tr>\n",
       "    <tr>\n",
       "      <th>2</th>\n",
       "      <td>PHD</td>\n",
       "      <td>0.251397</td>\n",
       "    </tr>\n",
       "  </tbody>\n",
       "</table>\n",
       "</div>"
      ],
      "text/plain": [
       "   Education  proportion\n",
       "1    Masters    0.487973\n",
       "0  Bachelors    0.313524\n",
       "2        PHD    0.251397"
      ]
     },
     "execution_count": 9,
     "metadata": {},
     "output_type": "execute_result"
    }
   ],
   "source": [
    "prop_df=[]\n",
    "for val in np.sort(df['Education'].unique()):\n",
    "    prop=d1['Education'][val][1]/(d1['Education'][val][1]+d1['Education'][val][0])\n",
    "    prop_df.append({\n",
    "        'Education':val,\n",
    "        'proportion':prop\n",
    "    })\n",
    "\n",
    "prop_df=pd.DataFrame(prop_df)\n",
    "prop_df.sort_values('proportion',ascending=False,inplace=True)\n",
    "prop_df"
   ]
  },
  {
   "cell_type": "code",
   "execution_count": 10,
   "id": "d6ed6996",
   "metadata": {
    "execution": {
     "iopub.execute_input": "2021-11-16T13:42:34.232920Z",
     "iopub.status.busy": "2021-11-16T13:42:34.066093Z",
     "iopub.status.idle": "2021-11-16T13:42:34.431476Z",
     "shell.execute_reply": "2021-11-16T13:42:34.430849Z",
     "shell.execute_reply.started": "2021-11-16T13:37:19.986438Z"
    },
    "papermill": {
     "duration": 0.448174,
     "end_time": "2021-11-16T13:42:34.431661",
     "exception": false,
     "start_time": "2021-11-16T13:42:33.983487",
     "status": "completed"
    },
    "tags": []
   },
   "outputs": [
    {
     "data": {
      "image/png": "[encoded data removed]",
      "text/plain": [
       "<Figure size 504x288 with 1 Axes>"
      ]
     },
     "metadata": {
      "needs_background": "light"
     },
     "output_type": "display_data"
    }
   ],
   "source": [
    "plt.figure(figsize=(7,4))\n",
    "sns.barplot(x=prop_df['Education'],y=prop_df['proportion'])\n",
    "plt.title(\"Proportion of employee who leaves the company in next 2 years\")\n",
    "plt.xlabel('Education')\n",
    "plt.show()"
   ]
  },
  {
   "cell_type": "markdown",
   "id": "141483d1",
   "metadata": {
    "papermill": {
     "duration": 0.079643,
     "end_time": "2021-11-16T13:42:34.593517",
     "exception": false,
     "start_time": "2021-11-16T13:42:34.513874",
     "status": "completed"
    },
    "tags": []
   },
   "source": [
    "**Insight:** Masters degree are most likely to leave the company"
   ]
  },
  {
   "cell_type": "markdown",
   "id": "fb3d5519",
   "metadata": {
    "papermill": {
     "duration": 0.080205,
     "end_time": "2021-11-16T13:42:34.754345",
     "exception": false,
     "start_time": "2021-11-16T13:42:34.674140",
     "status": "completed"
    },
    "tags": []
   },
   "source": [
    "## Joining Year"
   ]
  },
  {
   "cell_type": "code",
   "execution_count": 11,
   "id": "daabc5b8",
   "metadata": {
    "execution": {
     "iopub.execute_input": "2021-11-16T13:42:34.919918Z",
     "iopub.status.busy": "2021-11-16T13:42:34.918808Z",
     "iopub.status.idle": "2021-11-16T13:42:34.933636Z",
     "shell.execute_reply": "2021-11-16T13:42:34.934326Z",
     "shell.execute_reply.started": "2021-11-16T13:37:20.190196Z"
    },
    "papermill": {
     "duration": 0.097881,
     "end_time": "2021-11-16T13:42:34.934537",
     "exception": false,
     "start_time": "2021-11-16T13:42:34.836656",
     "status": "completed"
    },
    "tags": []
   },
   "outputs": [
    {
     "data": {
      "text/html": [
       "<div>\n",
       "<style scoped>\n",
       "    .dataframe tbody tr th:only-of-type {\n",
       "        vertical-align: middle;\n",
       "    }\n",
       "\n",
       "    .dataframe tbody tr th {\n",
       "        vertical-align: top;\n",
       "    }\n",
       "\n",
       "    .dataframe thead th {\n",
       "        text-align: right;\n",
       "    }\n",
       "</style>\n",
       "<table border=\"1\" class=\"dataframe\">\n",
       "  <thead>\n",
       "    <tr style=\"text-align: right;\">\n",
       "      <th></th>\n",
       "      <th></th>\n",
       "      <th>JoiningYear</th>\n",
       "    </tr>\n",
       "    <tr>\n",
       "      <th>JoiningYear</th>\n",
       "      <th>LeaveOrNot</th>\n",
       "      <th></th>\n",
       "    </tr>\n",
       "  </thead>\n",
       "  <tbody>\n",
       "    <tr>\n",
       "      <th rowspan=\"2\" valign=\"top\">2012</th>\n",
       "      <th>0</th>\n",
       "      <td>395</td>\n",
       "    </tr>\n",
       "    <tr>\n",
       "      <th>1</th>\n",
       "      <td>109</td>\n",
       "    </tr>\n",
       "    <tr>\n",
       "      <th rowspan=\"2\" valign=\"top\">2013</th>\n",
       "      <th>0</th>\n",
       "      <td>445</td>\n",
       "    </tr>\n",
       "    <tr>\n",
       "      <th>1</th>\n",
       "      <td>224</td>\n",
       "    </tr>\n",
       "    <tr>\n",
       "      <th rowspan=\"2\" valign=\"top\">2014</th>\n",
       "      <th>0</th>\n",
       "      <td>526</td>\n",
       "    </tr>\n",
       "    <tr>\n",
       "      <th>1</th>\n",
       "      <td>173</td>\n",
       "    </tr>\n",
       "    <tr>\n",
       "      <th rowspan=\"2\" valign=\"top\">2015</th>\n",
       "      <th>0</th>\n",
       "      <td>463</td>\n",
       "    </tr>\n",
       "    <tr>\n",
       "      <th>1</th>\n",
       "      <td>318</td>\n",
       "    </tr>\n",
       "    <tr>\n",
       "      <th rowspan=\"2\" valign=\"top\">2016</th>\n",
       "      <th>0</th>\n",
       "      <td>408</td>\n",
       "    </tr>\n",
       "    <tr>\n",
       "      <th>1</th>\n",
       "      <td>117</td>\n",
       "    </tr>\n",
       "    <tr>\n",
       "      <th rowspan=\"2\" valign=\"top\">2017</th>\n",
       "      <th>0</th>\n",
       "      <td>811</td>\n",
       "    </tr>\n",
       "    <tr>\n",
       "      <th>1</th>\n",
       "      <td>297</td>\n",
       "    </tr>\n",
       "    <tr>\n",
       "      <th rowspan=\"2\" valign=\"top\">2018</th>\n",
       "      <th>0</th>\n",
       "      <td>5</td>\n",
       "    </tr>\n",
       "    <tr>\n",
       "      <th>1</th>\n",
       "      <td>362</td>\n",
       "    </tr>\n",
       "  </tbody>\n",
       "</table>\n",
       "</div>"
      ],
      "text/plain": [
       "                        JoiningYear\n",
       "JoiningYear LeaveOrNot             \n",
       "2012        0                   395\n",
       "            1                   109\n",
       "2013        0                   445\n",
       "            1                   224\n",
       "2014        0                   526\n",
       "            1                   173\n",
       "2015        0                   463\n",
       "            1                   318\n",
       "2016        0                   408\n",
       "            1                   117\n",
       "2017        0                   811\n",
       "            1                   297\n",
       "2018        0                     5\n",
       "            1                   362"
      ]
     },
     "execution_count": 11,
     "metadata": {},
     "output_type": "execute_result"
    }
   ],
   "source": [
    "d1=pd.DataFrame(df.groupby(['JoiningYear','LeaveOrNot'])['JoiningYear'].count())\n",
    "d1"
   ]
  },
  {
   "cell_type": "code",
   "execution_count": 12,
   "id": "65c16ddb",
   "metadata": {
    "execution": {
     "iopub.execute_input": "2021-11-16T13:42:35.102511Z",
     "iopub.status.busy": "2021-11-16T13:42:35.101336Z",
     "iopub.status.idle": "2021-11-16T13:42:35.122432Z",
     "shell.execute_reply": "2021-11-16T13:42:35.123231Z",
     "shell.execute_reply.started": "2021-11-16T13:37:20.204681Z"
    },
    "papermill": {
     "duration": 0.10697,
     "end_time": "2021-11-16T13:42:35.123457",
     "exception": false,
     "start_time": "2021-11-16T13:42:35.016487",
     "status": "completed"
    },
    "tags": []
   },
   "outputs": [
    {
     "data": {
      "text/html": [
       "<div>\n",
       "<style scoped>\n",
       "    .dataframe tbody tr th:only-of-type {\n",
       "        vertical-align: middle;\n",
       "    }\n",
       "\n",
       "    .dataframe tbody tr th {\n",
       "        vertical-align: top;\n",
       "    }\n",
       "\n",
       "    .dataframe thead th {\n",
       "        text-align: right;\n",
       "    }\n",
       "</style>\n",
       "<table border=\"1\" class=\"dataframe\">\n",
       "  <thead>\n",
       "    <tr style=\"text-align: right;\">\n",
       "      <th></th>\n",
       "      <th>JoiningYear</th>\n",
       "      <th>proportion</th>\n",
       "    </tr>\n",
       "  </thead>\n",
       "  <tbody>\n",
       "    <tr>\n",
       "      <th>6</th>\n",
       "      <td>2018</td>\n",
       "      <td>0.986376</td>\n",
       "    </tr>\n",
       "    <tr>\n",
       "      <th>3</th>\n",
       "      <td>2015</td>\n",
       "      <td>0.407170</td>\n",
       "    </tr>\n",
       "    <tr>\n",
       "      <th>1</th>\n",
       "      <td>2013</td>\n",
       "      <td>0.334828</td>\n",
       "    </tr>\n",
       "    <tr>\n",
       "      <th>5</th>\n",
       "      <td>2017</td>\n",
       "      <td>0.268051</td>\n",
       "    </tr>\n",
       "    <tr>\n",
       "      <th>2</th>\n",
       "      <td>2014</td>\n",
       "      <td>0.247496</td>\n",
       "    </tr>\n",
       "    <tr>\n",
       "      <th>4</th>\n",
       "      <td>2016</td>\n",
       "      <td>0.222857</td>\n",
       "    </tr>\n",
       "    <tr>\n",
       "      <th>0</th>\n",
       "      <td>2012</td>\n",
       "      <td>0.216270</td>\n",
       "    </tr>\n",
       "  </tbody>\n",
       "</table>\n",
       "</div>"
      ],
      "text/plain": [
       "   JoiningYear  proportion\n",
       "6         2018    0.986376\n",
       "3         2015    0.407170\n",
       "1         2013    0.334828\n",
       "5         2017    0.268051\n",
       "2         2014    0.247496\n",
       "4         2016    0.222857\n",
       "0         2012    0.216270"
      ]
     },
     "execution_count": 12,
     "metadata": {},
     "output_type": "execute_result"
    }
   ],
   "source": [
    "prop_df=[]\n",
    "for val in np.sort(df['JoiningYear'].unique()):\n",
    "    prop=d1['JoiningYear'][val][1]/(d1['JoiningYear'][val][1]+d1['JoiningYear'][val][0])\n",
    "    prop_df.append({\n",
    "        'JoiningYear':val,\n",
    "        'proportion':prop\n",
    "    })\n",
    "\n",
    "prop_df=pd.DataFrame(prop_df)\n",
    "prop_df.sort_values('proportion',ascending=False,inplace=True)\n",
    "prop_df"
   ]
  },
  {
   "cell_type": "code",
   "execution_count": 13,
   "id": "6a538c62",
   "metadata": {
    "execution": {
     "iopub.execute_input": "2021-11-16T13:42:35.286609Z",
     "iopub.status.busy": "2021-11-16T13:42:35.285492Z",
     "iopub.status.idle": "2021-11-16T13:42:35.546992Z",
     "shell.execute_reply": "2021-11-16T13:42:35.547728Z",
     "shell.execute_reply.started": "2021-11-16T13:37:20.232796Z"
    },
    "papermill": {
     "duration": 0.344221,
     "end_time": "2021-11-16T13:42:35.547930",
     "exception": false,
     "start_time": "2021-11-16T13:42:35.203709",
     "status": "completed"
    },
    "tags": []
   },
   "outputs": [
    {
     "data": {
      "image/png": "[encoded data removed]",
      "text/plain": [
       "<Figure size 504x288 with 1 Axes>"
      ]
     },
     "metadata": {
      "needs_background": "light"
     },
     "output_type": "display_data"
    }
   ],
   "source": [
    "plt.figure(figsize=(7,4))\n",
    "sns.barplot(x=prop_df['JoiningYear'],y=prop_df['proportion'])\n",
    "plt.title(\"Proportion of employee who leaves the company in next 2 years\")\n",
    "plt.xlabel('JoiningYear')\n",
    "plt.show()"
   ]
  },
  {
   "cell_type": "markdown",
   "id": "dfc2560b",
   "metadata": {
    "papermill": {
     "duration": 0.084112,
     "end_time": "2021-11-16T13:42:35.715191",
     "exception": false,
     "start_time": "2021-11-16T13:42:35.631079",
     "status": "completed"
    },
    "tags": []
   },
   "source": [
    "**Insight:** New hires are more likely to leave, maybe they are dissatisfied with their positions."
   ]
  },
  {
   "cell_type": "markdown",
   "id": "17475248",
   "metadata": {
    "papermill": {
     "duration": 0.091195,
     "end_time": "2021-11-16T13:42:35.889197",
     "exception": false,
     "start_time": "2021-11-16T13:42:35.798002",
     "status": "completed"
    },
    "tags": []
   },
   "source": [
    "## City"
   ]
  },
  {
   "cell_type": "code",
   "execution_count": 14,
   "id": "dbf42e70",
   "metadata": {
    "execution": {
     "iopub.execute_input": "2021-11-16T13:42:36.079875Z",
     "iopub.status.busy": "2021-11-16T13:42:36.079120Z",
     "iopub.status.idle": "2021-11-16T13:42:36.097461Z",
     "shell.execute_reply": "2021-11-16T13:42:36.098096Z",
     "shell.execute_reply.started": "2021-11-16T13:37:20.456782Z"
    },
    "papermill": {
     "duration": 0.110243,
     "end_time": "2021-11-16T13:42:36.098303",
     "exception": false,
     "start_time": "2021-11-16T13:42:35.988060",
     "status": "completed"
    },
    "tags": []
   },
   "outputs": [
    {
     "data": {
      "text/html": [
       "<div>\n",
       "<style scoped>\n",
       "    .dataframe tbody tr th:only-of-type {\n",
       "        vertical-align: middle;\n",
       "    }\n",
       "\n",
       "    .dataframe tbody tr th {\n",
       "        vertical-align: top;\n",
       "    }\n",
       "\n",
       "    .dataframe thead th {\n",
       "        text-align: right;\n",
       "    }\n",
       "</style>\n",
       "<table border=\"1\" class=\"dataframe\">\n",
       "  <thead>\n",
       "    <tr style=\"text-align: right;\">\n",
       "      <th></th>\n",
       "      <th></th>\n",
       "      <th>City</th>\n",
       "    </tr>\n",
       "    <tr>\n",
       "      <th>City</th>\n",
       "      <th>LeaveOrNot</th>\n",
       "      <th></th>\n",
       "    </tr>\n",
       "  </thead>\n",
       "  <tbody>\n",
       "    <tr>\n",
       "      <th rowspan=\"2\" valign=\"top\">Bangalore</th>\n",
       "      <th>0</th>\n",
       "      <td>1633</td>\n",
       "    </tr>\n",
       "    <tr>\n",
       "      <th>1</th>\n",
       "      <td>595</td>\n",
       "    </tr>\n",
       "    <tr>\n",
       "      <th rowspan=\"2\" valign=\"top\">New Delhi</th>\n",
       "      <th>0</th>\n",
       "      <td>791</td>\n",
       "    </tr>\n",
       "    <tr>\n",
       "      <th>1</th>\n",
       "      <td>366</td>\n",
       "    </tr>\n",
       "    <tr>\n",
       "      <th rowspan=\"2\" valign=\"top\">Pune</th>\n",
       "      <th>0</th>\n",
       "      <td>629</td>\n",
       "    </tr>\n",
       "    <tr>\n",
       "      <th>1</th>\n",
       "      <td>639</td>\n",
       "    </tr>\n",
       "  </tbody>\n",
       "</table>\n",
       "</div>"
      ],
      "text/plain": [
       "                      City\n",
       "City      LeaveOrNot      \n",
       "Bangalore 0           1633\n",
       "          1            595\n",
       "New Delhi 0            791\n",
       "          1            366\n",
       "Pune      0            629\n",
       "          1            639"
      ]
     },
     "execution_count": 14,
     "metadata": {},
     "output_type": "execute_result"
    }
   ],
   "source": [
    "d1=pd.DataFrame(df.groupby(['City','LeaveOrNot'])['City'].count())\n",
    "d1"
   ]
  },
  {
   "cell_type": "code",
   "execution_count": 15,
   "id": "f1db7b0a",
   "metadata": {
    "execution": {
     "iopub.execute_input": "2021-11-16T13:42:36.285248Z",
     "iopub.status.busy": "2021-11-16T13:42:36.284519Z",
     "iopub.status.idle": "2021-11-16T13:42:36.308204Z",
     "shell.execute_reply": "2021-11-16T13:42:36.308898Z",
     "shell.execute_reply.started": "2021-11-16T13:37:20.471723Z"
    },
    "papermill": {
     "duration": 0.119367,
     "end_time": "2021-11-16T13:42:36.309087",
     "exception": false,
     "start_time": "2021-11-16T13:42:36.189720",
     "status": "completed"
    },
    "tags": []
   },
   "outputs": [
    {
     "data": {
      "text/html": [
       "<div>\n",
       "<style scoped>\n",
       "    .dataframe tbody tr th:only-of-type {\n",
       "        vertical-align: middle;\n",
       "    }\n",
       "\n",
       "    .dataframe tbody tr th {\n",
       "        vertical-align: top;\n",
       "    }\n",
       "\n",
       "    .dataframe thead th {\n",
       "        text-align: right;\n",
       "    }\n",
       "</style>\n",
       "<table border=\"1\" class=\"dataframe\">\n",
       "  <thead>\n",
       "    <tr style=\"text-align: right;\">\n",
       "      <th></th>\n",
       "      <th>City</th>\n",
       "      <th>proportion</th>\n",
       "    </tr>\n",
       "  </thead>\n",
       "  <tbody>\n",
       "    <tr>\n",
       "      <th>2</th>\n",
       "      <td>Pune</td>\n",
       "      <td>0.503943</td>\n",
       "    </tr>\n",
       "    <tr>\n",
       "      <th>1</th>\n",
       "      <td>New Delhi</td>\n",
       "      <td>0.316335</td>\n",
       "    </tr>\n",
       "    <tr>\n",
       "      <th>0</th>\n",
       "      <td>Bangalore</td>\n",
       "      <td>0.267056</td>\n",
       "    </tr>\n",
       "  </tbody>\n",
       "</table>\n",
       "</div>"
      ],
      "text/plain": [
       "        City  proportion\n",
       "2       Pune    0.503943\n",
       "1  New Delhi    0.316335\n",
       "0  Bangalore    0.267056"
      ]
     },
     "execution_count": 15,
     "metadata": {},
     "output_type": "execute_result"
    }
   ],
   "source": [
    "prop_df=[]\n",
    "for val in np.sort(df['City'].unique()):\n",
    "    prop=d1['City'][val][1]/(d1['City'][val][1]+d1['City'][val][0])\n",
    "    prop_df.append({\n",
    "        'City':val,\n",
    "        'proportion':prop\n",
    "    })\n",
    "\n",
    "prop_df=pd.DataFrame(prop_df)\n",
    "prop_df.sort_values('proportion',ascending=False,inplace=True)\n",
    "prop_df"
   ]
  },
  {
   "cell_type": "code",
   "execution_count": 16,
   "id": "3b47322d",
   "metadata": {
    "execution": {
     "iopub.execute_input": "2021-11-16T13:42:36.475361Z",
     "iopub.status.busy": "2021-11-16T13:42:36.474643Z",
     "iopub.status.idle": "2021-11-16T13:42:36.698148Z",
     "shell.execute_reply": "2021-11-16T13:42:36.697412Z",
     "shell.execute_reply.started": "2021-11-16T13:37:20.489902Z"
    },
    "papermill": {
     "duration": 0.309757,
     "end_time": "2021-11-16T13:42:36.698305",
     "exception": false,
     "start_time": "2021-11-16T13:42:36.388548",
     "status": "completed"
    },
    "tags": []
   },
   "outputs": [
    {
     "data": {
      "image/png": "[encoded data removed]",
      "text/plain": [
       "<Figure size 504x288 with 1 Axes>"
      ]
     },
     "metadata": {
      "needs_background": "light"
     },
     "output_type": "display_data"
    }
   ],
   "source": [
    "plt.figure(figsize=(7,4))\n",
    "sns.barplot(x=prop_df['City'],y=prop_df['proportion'])\n",
    "plt.title(\"Proportion of employee who leaves the company in next 2 years\")\n",
    "plt.xlabel('City')\n",
    "plt.show()"
   ]
  },
  {
   "cell_type": "markdown",
   "id": "de961baf",
   "metadata": {
    "papermill": {
     "duration": 0.079909,
     "end_time": "2021-11-16T13:42:36.862259",
     "exception": false,
     "start_time": "2021-11-16T13:42:36.782350",
     "status": "completed"
    },
    "tags": []
   },
   "source": [
    "**Insight:** Employees working in Pune are most likely to leave; one possible explanation is the establishment of a new IT cluster in Pune, which would provide new opportunities."
   ]
  },
  {
   "cell_type": "markdown",
   "id": "abca954d",
   "metadata": {
    "papermill": {
     "duration": 0.081995,
     "end_time": "2021-11-16T13:42:37.022232",
     "exception": false,
     "start_time": "2021-11-16T13:42:36.940237",
     "status": "completed"
    },
    "tags": []
   },
   "source": [
    "## PaymentTier"
   ]
  },
  {
   "cell_type": "code",
   "execution_count": 17,
   "id": "c6e0075e",
   "metadata": {
    "execution": {
     "iopub.execute_input": "2021-11-16T13:42:37.188913Z",
     "iopub.status.busy": "2021-11-16T13:42:37.187756Z",
     "iopub.status.idle": "2021-11-16T13:42:37.198577Z",
     "shell.execute_reply": "2021-11-16T13:42:37.199286Z",
     "shell.execute_reply.started": "2021-11-16T13:37:20.681070Z"
    },
    "papermill": {
     "duration": 0.096668,
     "end_time": "2021-11-16T13:42:37.199478",
     "exception": false,
     "start_time": "2021-11-16T13:42:37.102810",
     "status": "completed"
    },
    "tags": []
   },
   "outputs": [
    {
     "data": {
      "text/html": [
       "<div>\n",
       "<style scoped>\n",
       "    .dataframe tbody tr th:only-of-type {\n",
       "        vertical-align: middle;\n",
       "    }\n",
       "\n",
       "    .dataframe tbody tr th {\n",
       "        vertical-align: top;\n",
       "    }\n",
       "\n",
       "    .dataframe thead th {\n",
       "        text-align: right;\n",
       "    }\n",
       "</style>\n",
       "<table border=\"1\" class=\"dataframe\">\n",
       "  <thead>\n",
       "    <tr style=\"text-align: right;\">\n",
       "      <th></th>\n",
       "      <th></th>\n",
       "      <th>PaymentTier</th>\n",
       "    </tr>\n",
       "    <tr>\n",
       "      <th>PaymentTier</th>\n",
       "      <th>LeaveOrNot</th>\n",
       "      <th></th>\n",
       "    </tr>\n",
       "  </thead>\n",
       "  <tbody>\n",
       "    <tr>\n",
       "      <th rowspan=\"2\" valign=\"top\">1</th>\n",
       "      <th>0</th>\n",
       "      <td>154</td>\n",
       "    </tr>\n",
       "    <tr>\n",
       "      <th>1</th>\n",
       "      <td>89</td>\n",
       "    </tr>\n",
       "    <tr>\n",
       "      <th rowspan=\"2\" valign=\"top\">2</th>\n",
       "      <th>0</th>\n",
       "      <td>368</td>\n",
       "    </tr>\n",
       "    <tr>\n",
       "      <th>1</th>\n",
       "      <td>550</td>\n",
       "    </tr>\n",
       "    <tr>\n",
       "      <th rowspan=\"2\" valign=\"top\">3</th>\n",
       "      <th>0</th>\n",
       "      <td>2531</td>\n",
       "    </tr>\n",
       "    <tr>\n",
       "      <th>1</th>\n",
       "      <td>961</td>\n",
       "    </tr>\n",
       "  </tbody>\n",
       "</table>\n",
       "</div>"
      ],
      "text/plain": [
       "                        PaymentTier\n",
       "PaymentTier LeaveOrNot             \n",
       "1           0                   154\n",
       "            1                    89\n",
       "2           0                   368\n",
       "            1                   550\n",
       "3           0                  2531\n",
       "            1                   961"
      ]
     },
     "execution_count": 17,
     "metadata": {},
     "output_type": "execute_result"
    }
   ],
   "source": [
    "d1=pd.DataFrame(df.groupby(['PaymentTier','LeaveOrNot'])['PaymentTier'].count())\n",
    "d1"
   ]
  },
  {
   "cell_type": "code",
   "execution_count": 18,
   "id": "ed67f308",
   "metadata": {
    "execution": {
     "iopub.execute_input": "2021-11-16T13:42:37.370081Z",
     "iopub.status.busy": "2021-11-16T13:42:37.369369Z",
     "iopub.status.idle": "2021-11-16T13:42:37.380590Z",
     "shell.execute_reply": "2021-11-16T13:42:37.381277Z",
     "shell.execute_reply.started": "2021-11-16T13:37:20.695017Z"
    },
    "papermill": {
     "duration": 0.101723,
     "end_time": "2021-11-16T13:42:37.381462",
     "exception": false,
     "start_time": "2021-11-16T13:42:37.279739",
     "status": "completed"
    },
    "tags": []
   },
   "outputs": [
    {
     "data": {
      "text/html": [
       "<div>\n",
       "<style scoped>\n",
       "    .dataframe tbody tr th:only-of-type {\n",
       "        vertical-align: middle;\n",
       "    }\n",
       "\n",
       "    .dataframe tbody tr th {\n",
       "        vertical-align: top;\n",
       "    }\n",
       "\n",
       "    .dataframe thead th {\n",
       "        text-align: right;\n",
       "    }\n",
       "</style>\n",
       "<table border=\"1\" class=\"dataframe\">\n",
       "  <thead>\n",
       "    <tr style=\"text-align: right;\">\n",
       "      <th></th>\n",
       "      <th>PaymentTier</th>\n",
       "      <th>proportion</th>\n",
       "    </tr>\n",
       "  </thead>\n",
       "  <tbody>\n",
       "    <tr>\n",
       "      <th>1</th>\n",
       "      <td>2</td>\n",
       "      <td>0.599129</td>\n",
       "    </tr>\n",
       "    <tr>\n",
       "      <th>0</th>\n",
       "      <td>1</td>\n",
       "      <td>0.366255</td>\n",
       "    </tr>\n",
       "    <tr>\n",
       "      <th>2</th>\n",
       "      <td>3</td>\n",
       "      <td>0.275200</td>\n",
       "    </tr>\n",
       "  </tbody>\n",
       "</table>\n",
       "</div>"
      ],
      "text/plain": [
       "   PaymentTier  proportion\n",
       "1            2    0.599129\n",
       "0            1    0.366255\n",
       "2            3    0.275200"
      ]
     },
     "execution_count": 18,
     "metadata": {},
     "output_type": "execute_result"
    }
   ],
   "source": [
    "prop_df=[]\n",
    "for val in np.sort(df['PaymentTier'].unique()):\n",
    "    prop=d1['PaymentTier'][val][1]/(d1['PaymentTier'][val][1]+d1['PaymentTier'][val][0])\n",
    "    prop_df.append({\n",
    "        'PaymentTier':val,\n",
    "        'proportion':prop\n",
    "    })\n",
    "\n",
    "prop_df=pd.DataFrame(prop_df)\n",
    "prop_df.sort_values('proportion',ascending=False,inplace=True)\n",
    "prop_df"
   ]
  },
  {
   "cell_type": "code",
   "execution_count": 19,
   "id": "b50454af",
   "metadata": {
    "execution": {
     "iopub.execute_input": "2021-11-16T13:42:37.574067Z",
     "iopub.status.busy": "2021-11-16T13:42:37.547206Z",
     "iopub.status.idle": "2021-11-16T13:42:37.766118Z",
     "shell.execute_reply": "2021-11-16T13:42:37.766700Z",
     "shell.execute_reply.started": "2021-11-16T13:37:20.714253Z"
    },
    "papermill": {
     "duration": 0.304113,
     "end_time": "2021-11-16T13:42:37.766920",
     "exception": false,
     "start_time": "2021-11-16T13:42:37.462807",
     "status": "completed"
    },
    "tags": []
   },
   "outputs": [
    {
     "data": {
      "image/png": "[encoded data removed]",
      "text/plain": [
       "<Figure size 504x288 with 1 Axes>"
      ]
     },
     "metadata": {
      "needs_background": "light"
     },
     "output_type": "display_data"
    }
   ],
   "source": [
    "plt.figure(figsize=(7,4))\n",
    "sns.barplot(x=prop_df['PaymentTier'],y=prop_df['proportion'])\n",
    "plt.title(\"Proportion of employee who leaves the company in next 2 years\")\n",
    "plt.xlabel('PaymentTier')\n",
    "plt.show()"
   ]
  },
  {
   "cell_type": "markdown",
   "id": "74a21bfd",
   "metadata": {
    "papermill": {
     "duration": 0.089292,
     "end_time": "2021-11-16T13:42:37.940407",
     "exception": false,
     "start_time": "2021-11-16T13:42:37.851115",
     "status": "completed"
    },
    "tags": []
   },
   "source": [
    "**Insight:** Employees with PaymentTier 2 are more inclined to depart, possibly because to increased advancement opportunities"
   ]
  },
  {
   "cell_type": "markdown",
   "id": "69605bb8",
   "metadata": {
    "papermill": {
     "duration": 0.084541,
     "end_time": "2021-11-16T13:42:38.120520",
     "exception": false,
     "start_time": "2021-11-16T13:42:38.035979",
     "status": "completed"
    },
    "tags": []
   },
   "source": [
    "## Age"
   ]
  },
  {
   "cell_type": "code",
   "execution_count": 20,
   "id": "2a7ef2c3",
   "metadata": {
    "execution": {
     "iopub.execute_input": "2021-11-16T13:42:38.294529Z",
     "iopub.status.busy": "2021-11-16T13:42:38.293131Z",
     "iopub.status.idle": "2021-11-16T13:42:38.637169Z",
     "shell.execute_reply": "2021-11-16T13:42:38.636246Z",
     "shell.execute_reply.started": "2021-11-16T13:37:20.911942Z"
    },
    "papermill": {
     "duration": 0.432906,
     "end_time": "2021-11-16T13:42:38.637389",
     "exception": false,
     "start_time": "2021-11-16T13:42:38.204483",
     "status": "completed"
    },
    "tags": []
   },
   "outputs": [
    {
     "data": {
      "image/png": "[encoded data removed]",
      "text/plain": [
       "<Figure size 432x288 with 1 Axes>"
      ]
     },
     "metadata": {
      "needs_background": "light"
     },
     "output_type": "display_data"
    }
   ],
   "source": [
    "sns.distplot(df['Age'])\n",
    "plt.show()"
   ]
  },
  {
   "cell_type": "code",
   "execution_count": 21,
   "id": "b028cf8c",
   "metadata": {
    "execution": {
     "iopub.execute_input": "2021-11-16T13:42:38.809730Z",
     "iopub.status.busy": "2021-11-16T13:42:38.808464Z",
     "iopub.status.idle": "2021-11-16T13:42:39.037976Z",
     "shell.execute_reply": "2021-11-16T13:42:39.038482Z",
     "shell.execute_reply.started": "2021-11-16T13:37:21.200860Z"
    },
    "papermill": {
     "duration": 0.318293,
     "end_time": "2021-11-16T13:42:39.038703",
     "exception": false,
     "start_time": "2021-11-16T13:42:38.720410",
     "status": "completed"
    },
    "tags": []
   },
   "outputs": [
    {
     "data": {
      "image/png": "[encoded data removed]",
      "text/plain": [
       "<Figure size 432x288 with 1 Axes>"
      ]
     },
     "metadata": {
      "needs_background": "light"
     },
     "output_type": "display_data"
    }
   ],
   "source": [
    "sns.boxplot(x=df['LeaveOrNot'],y=df['Age'])\n",
    "plt.show()"
   ]
  },
  {
   "cell_type": "markdown",
   "id": "c8e1ee5d",
   "metadata": {
    "papermill": {
     "duration": 0.089031,
     "end_time": "2021-11-16T13:42:39.212365",
     "exception": false,
     "start_time": "2021-11-16T13:42:39.123334",
     "status": "completed"
    },
    "tags": []
   },
   "source": [
    "**Insight:** Median age of employees leaving is lower"
   ]
  },
  {
   "cell_type": "markdown",
   "id": "39c2690c",
   "metadata": {
    "papermill": {
     "duration": 0.084137,
     "end_time": "2021-11-16T13:42:39.381447",
     "exception": false,
     "start_time": "2021-11-16T13:42:39.297310",
     "status": "completed"
    },
    "tags": []
   },
   "source": [
    "## Gender"
   ]
  },
  {
   "cell_type": "code",
   "execution_count": 22,
   "id": "5c8f6adf",
   "metadata": {
    "execution": {
     "iopub.execute_input": "2021-11-16T13:42:39.563979Z",
     "iopub.status.busy": "2021-11-16T13:42:39.562780Z",
     "iopub.status.idle": "2021-11-16T13:42:39.574360Z",
     "shell.execute_reply": "2021-11-16T13:42:39.575351Z",
     "shell.execute_reply.started": "2021-11-16T13:37:21.400705Z"
    },
    "papermill": {
     "duration": 0.107353,
     "end_time": "2021-11-16T13:42:39.575666",
     "exception": false,
     "start_time": "2021-11-16T13:42:39.468313",
     "status": "completed"
    },
    "tags": []
   },
   "outputs": [
    {
     "data": {
      "text/html": [
       "<div>\n",
       "<style scoped>\n",
       "    .dataframe tbody tr th:only-of-type {\n",
       "        vertical-align: middle;\n",
       "    }\n",
       "\n",
       "    .dataframe tbody tr th {\n",
       "        vertical-align: top;\n",
       "    }\n",
       "\n",
       "    .dataframe thead th {\n",
       "        text-align: right;\n",
       "    }\n",
       "</style>\n",
       "<table border=\"1\" class=\"dataframe\">\n",
       "  <thead>\n",
       "    <tr style=\"text-align: right;\">\n",
       "      <th></th>\n",
       "      <th></th>\n",
       "      <th>Gender</th>\n",
       "    </tr>\n",
       "    <tr>\n",
       "      <th>Gender</th>\n",
       "      <th>LeaveOrNot</th>\n",
       "      <th></th>\n",
       "    </tr>\n",
       "  </thead>\n",
       "  <tbody>\n",
       "    <tr>\n",
       "      <th rowspan=\"2\" valign=\"top\">Female</th>\n",
       "      <th>0</th>\n",
       "      <td>991</td>\n",
       "    </tr>\n",
       "    <tr>\n",
       "      <th>1</th>\n",
       "      <td>884</td>\n",
       "    </tr>\n",
       "    <tr>\n",
       "      <th rowspan=\"2\" valign=\"top\">Male</th>\n",
       "      <th>0</th>\n",
       "      <td>2062</td>\n",
       "    </tr>\n",
       "    <tr>\n",
       "      <th>1</th>\n",
       "      <td>716</td>\n",
       "    </tr>\n",
       "  </tbody>\n",
       "</table>\n",
       "</div>"
      ],
      "text/plain": [
       "                   Gender\n",
       "Gender LeaveOrNot        \n",
       "Female 0              991\n",
       "       1              884\n",
       "Male   0             2062\n",
       "       1              716"
      ]
     },
     "execution_count": 22,
     "metadata": {},
     "output_type": "execute_result"
    }
   ],
   "source": [
    "d1=pd.DataFrame(df.groupby(['Gender','LeaveOrNot'])['Gender'].count())\n",
    "d1"
   ]
  },
  {
   "cell_type": "code",
   "execution_count": 23,
   "id": "89e00df7",
   "metadata": {
    "execution": {
     "iopub.execute_input": "2021-11-16T13:42:39.754904Z",
     "iopub.status.busy": "2021-11-16T13:42:39.754160Z",
     "iopub.status.idle": "2021-11-16T13:42:39.769658Z",
     "shell.execute_reply": "2021-11-16T13:42:39.770185Z",
     "shell.execute_reply.started": "2021-11-16T13:37:21.414230Z"
    },
    "papermill": {
     "duration": 0.108884,
     "end_time": "2021-11-16T13:42:39.770385",
     "exception": false,
     "start_time": "2021-11-16T13:42:39.661501",
     "status": "completed"
    },
    "tags": []
   },
   "outputs": [
    {
     "data": {
      "text/html": [
       "<div>\n",
       "<style scoped>\n",
       "    .dataframe tbody tr th:only-of-type {\n",
       "        vertical-align: middle;\n",
       "    }\n",
       "\n",
       "    .dataframe tbody tr th {\n",
       "        vertical-align: top;\n",
       "    }\n",
       "\n",
       "    .dataframe thead th {\n",
       "        text-align: right;\n",
       "    }\n",
       "</style>\n",
       "<table border=\"1\" class=\"dataframe\">\n",
       "  <thead>\n",
       "    <tr style=\"text-align: right;\">\n",
       "      <th></th>\n",
       "      <th>Gender</th>\n",
       "      <th>proportion</th>\n",
       "    </tr>\n",
       "  </thead>\n",
       "  <tbody>\n",
       "    <tr>\n",
       "      <th>0</th>\n",
       "      <td>Female</td>\n",
       "      <td>0.471467</td>\n",
       "    </tr>\n",
       "    <tr>\n",
       "      <th>1</th>\n",
       "      <td>Male</td>\n",
       "      <td>0.257739</td>\n",
       "    </tr>\n",
       "  </tbody>\n",
       "</table>\n",
       "</div>"
      ],
      "text/plain": [
       "   Gender  proportion\n",
       "0  Female    0.471467\n",
       "1    Male    0.257739"
      ]
     },
     "execution_count": 23,
     "metadata": {},
     "output_type": "execute_result"
    }
   ],
   "source": [
    "prop_df=[]\n",
    "for val in np.sort(df['Gender'].unique()):\n",
    "    prop=d1['Gender'][val][1]/(d1['Gender'][val][1]+d1['Gender'][val][0])\n",
    "    prop_df.append({\n",
    "        'Gender':val,\n",
    "        'proportion':prop\n",
    "    })\n",
    "\n",
    "prop_df=pd.DataFrame(prop_df)\n",
    "prop_df.sort_values('proportion',ascending=False,inplace=True)\n",
    "prop_df"
   ]
  },
  {
   "cell_type": "code",
   "execution_count": 24,
   "id": "b9a9c6ed",
   "metadata": {
    "execution": {
     "iopub.execute_input": "2021-11-16T13:42:39.948235Z",
     "iopub.status.busy": "2021-11-16T13:42:39.947524Z",
     "iopub.status.idle": "2021-11-16T13:42:40.156244Z",
     "shell.execute_reply": "2021-11-16T13:42:40.156922Z",
     "shell.execute_reply.started": "2021-11-16T13:37:21.430012Z"
    },
    "papermill": {
     "duration": 0.297395,
     "end_time": "2021-11-16T13:42:40.157124",
     "exception": false,
     "start_time": "2021-11-16T13:42:39.859729",
     "status": "completed"
    },
    "tags": []
   },
   "outputs": [
    {
     "data": {
      "image/png": "[encoded data removed]",
      "text/plain": [
       "<Figure size 504x288 with 1 Axes>"
      ]
     },
     "metadata": {
      "needs_background": "light"
     },
     "output_type": "display_data"
    }
   ],
   "source": [
    "plt.figure(figsize=(7,4))\n",
    "sns.barplot(x=prop_df['Gender'],y=prop_df['proportion'])\n",
    "plt.title(\"Proportion of employee who leaves the company in next 2 years\")\n",
    "plt.xlabel('Gender')\n",
    "plt.show()"
   ]
  },
  {
   "cell_type": "markdown",
   "id": "21b71166",
   "metadata": {
    "papermill": {
     "duration": 0.087045,
     "end_time": "2021-11-16T13:42:40.330788",
     "exception": false,
     "start_time": "2021-11-16T13:42:40.243743",
     "status": "completed"
    },
    "tags": []
   },
   "source": [
    "**Insight:** Due to family obligations, female employees are more likely to depart"
   ]
  },
  {
   "cell_type": "markdown",
   "id": "4377a3d0",
   "metadata": {
    "papermill": {
     "duration": 0.086765,
     "end_time": "2021-11-16T13:42:40.508290",
     "exception": false,
     "start_time": "2021-11-16T13:42:40.421525",
     "status": "completed"
    },
    "tags": []
   },
   "source": [
    "## EverBenched"
   ]
  },
  {
   "cell_type": "code",
   "execution_count": 25,
   "id": "686f811a",
   "metadata": {
    "execution": {
     "iopub.execute_input": "2021-11-16T13:42:40.683242Z",
     "iopub.status.busy": "2021-11-16T13:42:40.682280Z",
     "iopub.status.idle": "2021-11-16T13:42:40.694102Z",
     "shell.execute_reply": "2021-11-16T13:42:40.694686Z",
     "shell.execute_reply.started": "2021-11-16T13:37:21.606632Z"
    },
    "papermill": {
     "duration": 0.102075,
     "end_time": "2021-11-16T13:42:40.694888",
     "exception": false,
     "start_time": "2021-11-16T13:42:40.592813",
     "status": "completed"
    },
    "tags": []
   },
   "outputs": [
    {
     "data": {
      "text/html": [
       "<div>\n",
       "<style scoped>\n",
       "    .dataframe tbody tr th:only-of-type {\n",
       "        vertical-align: middle;\n",
       "    }\n",
       "\n",
       "    .dataframe tbody tr th {\n",
       "        vertical-align: top;\n",
       "    }\n",
       "\n",
       "    .dataframe thead th {\n",
       "        text-align: right;\n",
       "    }\n",
       "</style>\n",
       "<table border=\"1\" class=\"dataframe\">\n",
       "  <thead>\n",
       "    <tr style=\"text-align: right;\">\n",
       "      <th></th>\n",
       "      <th></th>\n",
       "      <th>EverBenched</th>\n",
       "    </tr>\n",
       "    <tr>\n",
       "      <th>EverBenched</th>\n",
       "      <th>LeaveOrNot</th>\n",
       "      <th></th>\n",
       "    </tr>\n",
       "  </thead>\n",
       "  <tbody>\n",
       "    <tr>\n",
       "      <th rowspan=\"2\" valign=\"top\">No</th>\n",
       "      <th>0</th>\n",
       "      <td>2792</td>\n",
       "    </tr>\n",
       "    <tr>\n",
       "      <th>1</th>\n",
       "      <td>1383</td>\n",
       "    </tr>\n",
       "    <tr>\n",
       "      <th rowspan=\"2\" valign=\"top\">Yes</th>\n",
       "      <th>0</th>\n",
       "      <td>261</td>\n",
       "    </tr>\n",
       "    <tr>\n",
       "      <th>1</th>\n",
       "      <td>217</td>\n",
       "    </tr>\n",
       "  </tbody>\n",
       "</table>\n",
       "</div>"
      ],
      "text/plain": [
       "                        EverBenched\n",
       "EverBenched LeaveOrNot             \n",
       "No          0                  2792\n",
       "            1                  1383\n",
       "Yes         0                   261\n",
       "            1                   217"
      ]
     },
     "execution_count": 25,
     "metadata": {},
     "output_type": "execute_result"
    }
   ],
   "source": [
    "d1=pd.DataFrame(df.groupby(['EverBenched','LeaveOrNot'])['EverBenched'].count())\n",
    "d1"
   ]
  },
  {
   "cell_type": "code",
   "execution_count": 26,
   "id": "654b1d9c",
   "metadata": {
    "execution": {
     "iopub.execute_input": "2021-11-16T13:42:40.881463Z",
     "iopub.status.busy": "2021-11-16T13:42:40.874116Z",
     "iopub.status.idle": "2021-11-16T13:42:40.887279Z",
     "shell.execute_reply": "2021-11-16T13:42:40.887852Z",
     "shell.execute_reply.started": "2021-11-16T13:37:21.621677Z"
    },
    "papermill": {
     "duration": 0.107548,
     "end_time": "2021-11-16T13:42:40.888038",
     "exception": false,
     "start_time": "2021-11-16T13:42:40.780490",
     "status": "completed"
    },
    "tags": []
   },
   "outputs": [
    {
     "data": {
      "text/html": [
       "<div>\n",
       "<style scoped>\n",
       "    .dataframe tbody tr th:only-of-type {\n",
       "        vertical-align: middle;\n",
       "    }\n",
       "\n",
       "    .dataframe tbody tr th {\n",
       "        vertical-align: top;\n",
       "    }\n",
       "\n",
       "    .dataframe thead th {\n",
       "        text-align: right;\n",
       "    }\n",
       "</style>\n",
       "<table border=\"1\" class=\"dataframe\">\n",
       "  <thead>\n",
       "    <tr style=\"text-align: right;\">\n",
       "      <th></th>\n",
       "      <th>EverBenched</th>\n",
       "      <th>proportion</th>\n",
       "    </tr>\n",
       "  </thead>\n",
       "  <tbody>\n",
       "    <tr>\n",
       "      <th>1</th>\n",
       "      <td>Yes</td>\n",
       "      <td>0.453975</td>\n",
       "    </tr>\n",
       "    <tr>\n",
       "      <th>0</th>\n",
       "      <td>No</td>\n",
       "      <td>0.331257</td>\n",
       "    </tr>\n",
       "  </tbody>\n",
       "</table>\n",
       "</div>"
      ],
      "text/plain": [
       "  EverBenched  proportion\n",
       "1         Yes    0.453975\n",
       "0          No    0.331257"
      ]
     },
     "execution_count": 26,
     "metadata": {},
     "output_type": "execute_result"
    }
   ],
   "source": [
    "prop_df=[]\n",
    "for val in np.sort(df['EverBenched'].unique()):\n",
    "    prop=d1['EverBenched'][val][1]/(d1['EverBenched'][val][1]+d1['EverBenched'][val][0])\n",
    "    prop_df.append({\n",
    "        'EverBenched':val,\n",
    "        'proportion':prop\n",
    "    })\n",
    "\n",
    "prop_df=pd.DataFrame(prop_df)\n",
    "prop_df.sort_values('proportion',ascending=False,inplace=True)\n",
    "prop_df"
   ]
  },
  {
   "cell_type": "code",
   "execution_count": 27,
   "id": "2ae351b8",
   "metadata": {
    "execution": {
     "iopub.execute_input": "2021-11-16T13:42:41.086583Z",
     "iopub.status.busy": "2021-11-16T13:42:41.085424Z",
     "iopub.status.idle": "2021-11-16T13:42:41.261800Z",
     "shell.execute_reply": "2021-11-16T13:42:41.261140Z",
     "shell.execute_reply.started": "2021-11-16T13:37:21.639872Z"
    },
    "papermill": {
     "duration": 0.287685,
     "end_time": "2021-11-16T13:42:41.261958",
     "exception": false,
     "start_time": "2021-11-16T13:42:40.974273",
     "status": "completed"
    },
    "tags": []
   },
   "outputs": [
    {
     "data": {
      "image/png": "[encoded data removed]",
      "text/plain": [
       "<Figure size 504x288 with 1 Axes>"
      ]
     },
     "metadata": {
      "needs_background": "light"
     },
     "output_type": "display_data"
    }
   ],
   "source": [
    "plt.figure(figsize=(7,4))\n",
    "sns.barplot(x=prop_df['EverBenched'],y=prop_df['proportion'])\n",
    "plt.title(\"Proportion of employee who leaves the company in next 2 years\")\n",
    "plt.xlabel('EverBenched')\n",
    "plt.show()"
   ]
  },
  {
   "cell_type": "markdown",
   "id": "ab7e5d09",
   "metadata": {
    "papermill": {
     "duration": 0.08527,
     "end_time": "2021-11-16T13:42:41.433033",
     "exception": false,
     "start_time": "2021-11-16T13:42:41.347763",
     "status": "completed"
    },
    "tags": []
   },
   "source": [
    "**Insight**: Most of the employee who were benched left the company"
   ]
  },
  {
   "cell_type": "markdown",
   "id": "75437357",
   "metadata": {
    "papermill": {
     "duration": 0.088151,
     "end_time": "2021-11-16T13:42:41.607572",
     "exception": false,
     "start_time": "2021-11-16T13:42:41.519421",
     "status": "completed"
    },
    "tags": []
   },
   "source": [
    "## ExperienceInCurrentDomain"
   ]
  },
  {
   "cell_type": "code",
   "execution_count": 28,
   "id": "efa6cd27",
   "metadata": {
    "execution": {
     "iopub.execute_input": "2021-11-16T13:42:41.792180Z",
     "iopub.status.busy": "2021-11-16T13:42:41.791005Z",
     "iopub.status.idle": "2021-11-16T13:42:41.802935Z",
     "shell.execute_reply": "2021-11-16T13:42:41.802203Z",
     "shell.execute_reply.started": "2021-11-16T13:37:21.818517Z"
    },
    "papermill": {
     "duration": 0.105831,
     "end_time": "2021-11-16T13:42:41.803088",
     "exception": false,
     "start_time": "2021-11-16T13:42:41.697257",
     "status": "completed"
    },
    "tags": []
   },
   "outputs": [
    {
     "data": {
      "text/html": [
       "<div>\n",
       "<style scoped>\n",
       "    .dataframe tbody tr th:only-of-type {\n",
       "        vertical-align: middle;\n",
       "    }\n",
       "\n",
       "    .dataframe tbody tr th {\n",
       "        vertical-align: top;\n",
       "    }\n",
       "\n",
       "    .dataframe thead th {\n",
       "        text-align: right;\n",
       "    }\n",
       "</style>\n",
       "<table border=\"1\" class=\"dataframe\">\n",
       "  <thead>\n",
       "    <tr style=\"text-align: right;\">\n",
       "      <th></th>\n",
       "      <th></th>\n",
       "      <th>ExperienceInCurrentDomain</th>\n",
       "    </tr>\n",
       "    <tr>\n",
       "      <th>ExperienceInCurrentDomain</th>\n",
       "      <th>LeaveOrNot</th>\n",
       "      <th></th>\n",
       "    </tr>\n",
       "  </thead>\n",
       "  <tbody>\n",
       "    <tr>\n",
       "      <th rowspan=\"2\" valign=\"top\">0</th>\n",
       "      <th>0</th>\n",
       "      <td>231</td>\n",
       "    </tr>\n",
       "    <tr>\n",
       "      <th>1</th>\n",
       "      <td>124</td>\n",
       "    </tr>\n",
       "    <tr>\n",
       "      <th rowspan=\"2\" valign=\"top\">1</th>\n",
       "      <th>0</th>\n",
       "      <td>370</td>\n",
       "    </tr>\n",
       "    <tr>\n",
       "      <th>1</th>\n",
       "      <td>188</td>\n",
       "    </tr>\n",
       "    <tr>\n",
       "      <th rowspan=\"2\" valign=\"top\">2</th>\n",
       "      <th>0</th>\n",
       "      <td>688</td>\n",
       "    </tr>\n",
       "    <tr>\n",
       "      <th>1</th>\n",
       "      <td>399</td>\n",
       "    </tr>\n",
       "    <tr>\n",
       "      <th rowspan=\"2\" valign=\"top\">3</th>\n",
       "      <th>0</th>\n",
       "      <td>487</td>\n",
       "    </tr>\n",
       "    <tr>\n",
       "      <th>1</th>\n",
       "      <td>299</td>\n",
       "    </tr>\n",
       "    <tr>\n",
       "      <th rowspan=\"2\" valign=\"top\">4</th>\n",
       "      <th>0</th>\n",
       "      <td>634</td>\n",
       "    </tr>\n",
       "    <tr>\n",
       "      <th>1</th>\n",
       "      <td>297</td>\n",
       "    </tr>\n",
       "    <tr>\n",
       "      <th rowspan=\"2\" valign=\"top\">5</th>\n",
       "      <th>0</th>\n",
       "      <td>631</td>\n",
       "    </tr>\n",
       "    <tr>\n",
       "      <th>1</th>\n",
       "      <td>288</td>\n",
       "    </tr>\n",
       "    <tr>\n",
       "      <th rowspan=\"2\" valign=\"top\">6</th>\n",
       "      <th>0</th>\n",
       "      <td>6</td>\n",
       "    </tr>\n",
       "    <tr>\n",
       "      <th>1</th>\n",
       "      <td>2</td>\n",
       "    </tr>\n",
       "    <tr>\n",
       "      <th rowspan=\"2\" valign=\"top\">7</th>\n",
       "      <th>0</th>\n",
       "      <td>6</td>\n",
       "    </tr>\n",
       "    <tr>\n",
       "      <th>1</th>\n",
       "      <td>3</td>\n",
       "    </tr>\n",
       "  </tbody>\n",
       "</table>\n",
       "</div>"
      ],
      "text/plain": [
       "                                      ExperienceInCurrentDomain\n",
       "ExperienceInCurrentDomain LeaveOrNot                           \n",
       "0                         0                                 231\n",
       "                          1                                 124\n",
       "1                         0                                 370\n",
       "                          1                                 188\n",
       "2                         0                                 688\n",
       "                          1                                 399\n",
       "3                         0                                 487\n",
       "                          1                                 299\n",
       "4                         0                                 634\n",
       "                          1                                 297\n",
       "5                         0                                 631\n",
       "                          1                                 288\n",
       "6                         0                                   6\n",
       "                          1                                   2\n",
       "7                         0                                   6\n",
       "                          1                                   3"
      ]
     },
     "execution_count": 28,
     "metadata": {},
     "output_type": "execute_result"
    }
   ],
   "source": [
    "d1=pd.DataFrame(df.groupby(['ExperienceInCurrentDomain','LeaveOrNot'])['ExperienceInCurrentDomain'].count())\n",
    "d1"
   ]
  },
  {
   "cell_type": "code",
   "execution_count": 29,
   "id": "2efbcd2b",
   "metadata": {
    "execution": {
     "iopub.execute_input": "2021-11-16T13:42:41.998884Z",
     "iopub.status.busy": "2021-11-16T13:42:41.998096Z",
     "iopub.status.idle": "2021-11-16T13:42:42.002272Z",
     "shell.execute_reply": "2021-11-16T13:42:42.001500Z",
     "shell.execute_reply.started": "2021-11-16T13:37:21.839480Z"
    },
    "papermill": {
     "duration": 0.113283,
     "end_time": "2021-11-16T13:42:42.002439",
     "exception": false,
     "start_time": "2021-11-16T13:42:41.889156",
     "status": "completed"
    },
    "tags": []
   },
   "outputs": [
    {
     "data": {
      "text/html": [
       "<div>\n",
       "<style scoped>\n",
       "    .dataframe tbody tr th:only-of-type {\n",
       "        vertical-align: middle;\n",
       "    }\n",
       "\n",
       "    .dataframe tbody tr th {\n",
       "        vertical-align: top;\n",
       "    }\n",
       "\n",
       "    .dataframe thead th {\n",
       "        text-align: right;\n",
       "    }\n",
       "</style>\n",
       "<table border=\"1\" class=\"dataframe\">\n",
       "  <thead>\n",
       "    <tr style=\"text-align: right;\">\n",
       "      <th></th>\n",
       "      <th>ExperienceInCurrentDomain</th>\n",
       "      <th>proportion</th>\n",
       "    </tr>\n",
       "  </thead>\n",
       "  <tbody>\n",
       "    <tr>\n",
       "      <th>3</th>\n",
       "      <td>3</td>\n",
       "      <td>0.380407</td>\n",
       "    </tr>\n",
       "    <tr>\n",
       "      <th>2</th>\n",
       "      <td>2</td>\n",
       "      <td>0.367065</td>\n",
       "    </tr>\n",
       "    <tr>\n",
       "      <th>0</th>\n",
       "      <td>0</td>\n",
       "      <td>0.349296</td>\n",
       "    </tr>\n",
       "    <tr>\n",
       "      <th>1</th>\n",
       "      <td>1</td>\n",
       "      <td>0.336918</td>\n",
       "    </tr>\n",
       "    <tr>\n",
       "      <th>7</th>\n",
       "      <td>7</td>\n",
       "      <td>0.333333</td>\n",
       "    </tr>\n",
       "    <tr>\n",
       "      <th>4</th>\n",
       "      <td>4</td>\n",
       "      <td>0.319012</td>\n",
       "    </tr>\n",
       "    <tr>\n",
       "      <th>5</th>\n",
       "      <td>5</td>\n",
       "      <td>0.313384</td>\n",
       "    </tr>\n",
       "    <tr>\n",
       "      <th>6</th>\n",
       "      <td>6</td>\n",
       "      <td>0.250000</td>\n",
       "    </tr>\n",
       "  </tbody>\n",
       "</table>\n",
       "</div>"
      ],
      "text/plain": [
       "   ExperienceInCurrentDomain  proportion\n",
       "3                          3    0.380407\n",
       "2                          2    0.367065\n",
       "0                          0    0.349296\n",
       "1                          1    0.336918\n",
       "7                          7    0.333333\n",
       "4                          4    0.319012\n",
       "5                          5    0.313384\n",
       "6                          6    0.250000"
      ]
     },
     "execution_count": 29,
     "metadata": {},
     "output_type": "execute_result"
    }
   ],
   "source": [
    "prop_df=[]\n",
    "for val in np.sort(df['ExperienceInCurrentDomain'].unique()):\n",
    "    prop=d1['ExperienceInCurrentDomain'][val][1]/(d1['ExperienceInCurrentDomain'][val][1]+d1['ExperienceInCurrentDomain'][val][0])\n",
    "    prop_df.append({\n",
    "        'ExperienceInCurrentDomain':val,\n",
    "        'proportion':prop\n",
    "    })\n",
    "\n",
    "prop_df=pd.DataFrame(prop_df)\n",
    "prop_df.sort_values('proportion',ascending=False,inplace=True)\n",
    "prop_df"
   ]
  },
  {
   "cell_type": "code",
   "execution_count": 30,
   "id": "fdf9ebd7",
   "metadata": {
    "execution": {
     "iopub.execute_input": "2021-11-16T13:42:42.229608Z",
     "iopub.status.busy": "2021-11-16T13:42:42.228363Z",
     "iopub.status.idle": "2021-11-16T13:42:42.500916Z",
     "shell.execute_reply": "2021-11-16T13:42:42.500200Z",
     "shell.execute_reply.started": "2021-11-16T13:37:21.864750Z"
    },
    "papermill": {
     "duration": 0.412009,
     "end_time": "2021-11-16T13:42:42.501069",
     "exception": false,
     "start_time": "2021-11-16T13:42:42.089060",
     "status": "completed"
    },
    "tags": []
   },
   "outputs": [
    {
     "data": {
      "image/png": "[encoded data removed]",
      "text/plain": [
       "<Figure size 504x288 with 1 Axes>"
      ]
     },
     "metadata": {
      "needs_background": "light"
     },
     "output_type": "display_data"
    }
   ],
   "source": [
    "plt.figure(figsize=(7,4))\n",
    "sns.barplot(x=prop_df['ExperienceInCurrentDomain'],y=prop_df['proportion'])\n",
    "plt.title(\"Proportion of employee who leaves the company in next 2 years\")\n",
    "plt.xlabel('ExperienceInCurrentDomain')\n",
    "plt.show()"
   ]
  },
  {
   "cell_type": "markdown",
   "id": "befe6270",
   "metadata": {
    "papermill": {
     "duration": 0.091193,
     "end_time": "2021-11-16T13:42:42.686888",
     "exception": false,
     "start_time": "2021-11-16T13:42:42.595695",
     "status": "completed"
    },
    "tags": []
   },
   "source": [
    "## Feature Engineering"
   ]
  },
  {
   "cell_type": "code",
   "execution_count": 31,
   "id": "ede2fe78",
   "metadata": {
    "execution": {
     "iopub.execute_input": "2021-11-16T13:42:42.880719Z",
     "iopub.status.busy": "2021-11-16T13:42:42.879365Z",
     "iopub.status.idle": "2021-11-16T13:42:42.890661Z",
     "shell.execute_reply": "2021-11-16T13:42:42.890039Z",
     "shell.execute_reply.started": "2021-11-16T13:37:22.125937Z"
    },
    "papermill": {
     "duration": 0.113971,
     "end_time": "2021-11-16T13:42:42.890832",
     "exception": false,
     "start_time": "2021-11-16T13:42:42.776861",
     "status": "completed"
    },
    "tags": []
   },
   "outputs": [
    {
     "data": {
      "text/html": [
       "<div>\n",
       "<style scoped>\n",
       "    .dataframe tbody tr th:only-of-type {\n",
       "        vertical-align: middle;\n",
       "    }\n",
       "\n",
       "    .dataframe tbody tr th {\n",
       "        vertical-align: top;\n",
       "    }\n",
       "\n",
       "    .dataframe thead th {\n",
       "        text-align: right;\n",
       "    }\n",
       "</style>\n",
       "<table border=\"1\" class=\"dataframe\">\n",
       "  <thead>\n",
       "    <tr style=\"text-align: right;\">\n",
       "      <th></th>\n",
       "      <th>Education</th>\n",
       "      <th>JoiningYear</th>\n",
       "      <th>City</th>\n",
       "      <th>PaymentTier</th>\n",
       "      <th>Age</th>\n",
       "      <th>Gender</th>\n",
       "      <th>EverBenched</th>\n",
       "      <th>ExperienceInCurrentDomain</th>\n",
       "      <th>LeaveOrNot</th>\n",
       "    </tr>\n",
       "  </thead>\n",
       "  <tbody>\n",
       "    <tr>\n",
       "      <th>0</th>\n",
       "      <td>Bachelors</td>\n",
       "      <td>2017</td>\n",
       "      <td>Bangalore</td>\n",
       "      <td>3</td>\n",
       "      <td>34</td>\n",
       "      <td>Male</td>\n",
       "      <td>No</td>\n",
       "      <td>0</td>\n",
       "      <td>0</td>\n",
       "    </tr>\n",
       "    <tr>\n",
       "      <th>1</th>\n",
       "      <td>Bachelors</td>\n",
       "      <td>2013</td>\n",
       "      <td>Pune</td>\n",
       "      <td>1</td>\n",
       "      <td>28</td>\n",
       "      <td>Female</td>\n",
       "      <td>No</td>\n",
       "      <td>3</td>\n",
       "      <td>1</td>\n",
       "    </tr>\n",
       "    <tr>\n",
       "      <th>2</th>\n",
       "      <td>Bachelors</td>\n",
       "      <td>2014</td>\n",
       "      <td>New Delhi</td>\n",
       "      <td>3</td>\n",
       "      <td>38</td>\n",
       "      <td>Female</td>\n",
       "      <td>No</td>\n",
       "      <td>2</td>\n",
       "      <td>0</td>\n",
       "    </tr>\n",
       "    <tr>\n",
       "      <th>3</th>\n",
       "      <td>Masters</td>\n",
       "      <td>2016</td>\n",
       "      <td>Bangalore</td>\n",
       "      <td>3</td>\n",
       "      <td>27</td>\n",
       "      <td>Male</td>\n",
       "      <td>No</td>\n",
       "      <td>5</td>\n",
       "      <td>1</td>\n",
       "    </tr>\n",
       "    <tr>\n",
       "      <th>4</th>\n",
       "      <td>Masters</td>\n",
       "      <td>2017</td>\n",
       "      <td>Pune</td>\n",
       "      <td>3</td>\n",
       "      <td>24</td>\n",
       "      <td>Male</td>\n",
       "      <td>Yes</td>\n",
       "      <td>2</td>\n",
       "      <td>1</td>\n",
       "    </tr>\n",
       "  </tbody>\n",
       "</table>\n",
       "</div>"
      ],
      "text/plain": [
       "   Education  JoiningYear       City  PaymentTier  Age  Gender EverBenched  \\\n",
       "0  Bachelors         2017  Bangalore            3   34    Male          No   \n",
       "1  Bachelors         2013       Pune            1   28  Female          No   \n",
       "2  Bachelors         2014  New Delhi            3   38  Female          No   \n",
       "3    Masters         2016  Bangalore            3   27    Male          No   \n",
       "4    Masters         2017       Pune            3   24    Male         Yes   \n",
       "\n",
       "   ExperienceInCurrentDomain  LeaveOrNot  \n",
       "0                          0           0  \n",
       "1                          3           1  \n",
       "2                          2           0  \n",
       "3                          5           1  \n",
       "4                          2           1  "
      ]
     },
     "execution_count": 31,
     "metadata": {},
     "output_type": "execute_result"
    }
   ],
   "source": [
    "df.head()"
   ]
  },
  {
   "cell_type": "code",
   "execution_count": 32,
   "id": "6698c0d6",
   "metadata": {
    "execution": {
     "iopub.execute_input": "2021-11-16T13:42:43.078689Z",
     "iopub.status.busy": "2021-11-16T13:42:43.076811Z",
     "iopub.status.idle": "2021-11-16T13:42:43.216720Z",
     "shell.execute_reply": "2021-11-16T13:42:43.216057Z",
     "shell.execute_reply.started": "2021-11-16T13:37:22.141720Z"
    },
    "papermill": {
     "duration": 0.233571,
     "end_time": "2021-11-16T13:42:43.216885",
     "exception": false,
     "start_time": "2021-11-16T13:42:42.983314",
     "status": "completed"
    },
    "tags": []
   },
   "outputs": [],
   "source": [
    "from sklearn.preprocessing import LabelEncoder\n",
    "le=LabelEncoder()"
   ]
  },
  {
   "cell_type": "code",
   "execution_count": 33,
   "id": "9767e81e",
   "metadata": {
    "execution": {
     "iopub.execute_input": "2021-11-16T13:42:43.406052Z",
     "iopub.status.busy": "2021-11-16T13:42:43.404970Z",
     "iopub.status.idle": "2021-11-16T13:42:43.408194Z",
     "shell.execute_reply": "2021-11-16T13:42:43.407551Z",
     "shell.execute_reply.started": "2021-11-16T13:37:22.155347Z"
    },
    "papermill": {
     "duration": 0.100544,
     "end_time": "2021-11-16T13:42:43.408355",
     "exception": false,
     "start_time": "2021-11-16T13:42:43.307811",
     "status": "completed"
    },
    "tags": []
   },
   "outputs": [],
   "source": [
    "cat_cols=['Education','JoiningYear','City','Gender','EverBenched']"
   ]
  },
  {
   "cell_type": "code",
   "execution_count": 34,
   "id": "8c440a8b",
   "metadata": {
    "execution": {
     "iopub.execute_input": "2021-11-16T13:42:43.595386Z",
     "iopub.status.busy": "2021-11-16T13:42:43.594504Z",
     "iopub.status.idle": "2021-11-16T13:42:43.606062Z",
     "shell.execute_reply": "2021-11-16T13:42:43.605382Z",
     "shell.execute_reply.started": "2021-11-16T13:37:22.165639Z"
    },
    "papermill": {
     "duration": 0.107698,
     "end_time": "2021-11-16T13:42:43.606235",
     "exception": false,
     "start_time": "2021-11-16T13:42:43.498537",
     "status": "completed"
    },
    "tags": []
   },
   "outputs": [],
   "source": [
    "for i in cat_cols:\n",
    "    df[i]=le.fit_transform(df[i])"
   ]
  },
  {
   "cell_type": "code",
   "execution_count": 35,
   "id": "39b97964",
   "metadata": {
    "execution": {
     "iopub.execute_input": "2021-11-16T13:42:43.805023Z",
     "iopub.status.busy": "2021-11-16T13:42:43.803947Z",
     "iopub.status.idle": "2021-11-16T13:42:43.808056Z",
     "shell.execute_reply": "2021-11-16T13:42:43.808563Z",
     "shell.execute_reply.started": "2021-11-16T13:37:22.187098Z"
    },
    "papermill": {
     "duration": 0.111561,
     "end_time": "2021-11-16T13:42:43.808802",
     "exception": false,
     "start_time": "2021-11-16T13:42:43.697241",
     "status": "completed"
    },
    "tags": []
   },
   "outputs": [
    {
     "data": {
      "text/html": [
       "<div>\n",
       "<style scoped>\n",
       "    .dataframe tbody tr th:only-of-type {\n",
       "        vertical-align: middle;\n",
       "    }\n",
       "\n",
       "    .dataframe tbody tr th {\n",
       "        vertical-align: top;\n",
       "    }\n",
       "\n",
       "    .dataframe thead th {\n",
       "        text-align: right;\n",
       "    }\n",
       "</style>\n",
       "<table border=\"1\" class=\"dataframe\">\n",
       "  <thead>\n",
       "    <tr style=\"text-align: right;\">\n",
       "      <th></th>\n",
       "      <th>Education</th>\n",
       "      <th>JoiningYear</th>\n",
       "      <th>City</th>\n",
       "      <th>PaymentTier</th>\n",
       "      <th>Age</th>\n",
       "      <th>Gender</th>\n",
       "      <th>EverBenched</th>\n",
       "      <th>ExperienceInCurrentDomain</th>\n",
       "      <th>LeaveOrNot</th>\n",
       "    </tr>\n",
       "  </thead>\n",
       "  <tbody>\n",
       "    <tr>\n",
       "      <th>0</th>\n",
       "      <td>0</td>\n",
       "      <td>5</td>\n",
       "      <td>0</td>\n",
       "      <td>3</td>\n",
       "      <td>34</td>\n",
       "      <td>1</td>\n",
       "      <td>0</td>\n",
       "      <td>0</td>\n",
       "      <td>0</td>\n",
       "    </tr>\n",
       "    <tr>\n",
       "      <th>1</th>\n",
       "      <td>0</td>\n",
       "      <td>1</td>\n",
       "      <td>2</td>\n",
       "      <td>1</td>\n",
       "      <td>28</td>\n",
       "      <td>0</td>\n",
       "      <td>0</td>\n",
       "      <td>3</td>\n",
       "      <td>1</td>\n",
       "    </tr>\n",
       "    <tr>\n",
       "      <th>2</th>\n",
       "      <td>0</td>\n",
       "      <td>2</td>\n",
       "      <td>1</td>\n",
       "      <td>3</td>\n",
       "      <td>38</td>\n",
       "      <td>0</td>\n",
       "      <td>0</td>\n",
       "      <td>2</td>\n",
       "      <td>0</td>\n",
       "    </tr>\n",
       "    <tr>\n",
       "      <th>3</th>\n",
       "      <td>1</td>\n",
       "      <td>4</td>\n",
       "      <td>0</td>\n",
       "      <td>3</td>\n",
       "      <td>27</td>\n",
       "      <td>1</td>\n",
       "      <td>0</td>\n",
       "      <td>5</td>\n",
       "      <td>1</td>\n",
       "    </tr>\n",
       "    <tr>\n",
       "      <th>4</th>\n",
       "      <td>1</td>\n",
       "      <td>5</td>\n",
       "      <td>2</td>\n",
       "      <td>3</td>\n",
       "      <td>24</td>\n",
       "      <td>1</td>\n",
       "      <td>1</td>\n",
       "      <td>2</td>\n",
       "      <td>1</td>\n",
       "    </tr>\n",
       "  </tbody>\n",
       "</table>\n",
       "</div>"
      ],
      "text/plain": [
       "   Education  JoiningYear  City  PaymentTier  Age  Gender  EverBenched  \\\n",
       "0          0            5     0            3   34       1            0   \n",
       "1          0            1     2            1   28       0            0   \n",
       "2          0            2     1            3   38       0            0   \n",
       "3          1            4     0            3   27       1            0   \n",
       "4          1            5     2            3   24       1            1   \n",
       "\n",
       "   ExperienceInCurrentDomain  LeaveOrNot  \n",
       "0                          0           0  \n",
       "1                          3           1  \n",
       "2                          2           0  \n",
       "3                          5           1  \n",
       "4                          2           1  "
      ]
     },
     "execution_count": 35,
     "metadata": {},
     "output_type": "execute_result"
    }
   ],
   "source": [
    "df.head()"
   ]
  },
  {
   "cell_type": "markdown",
   "id": "d8490fa0",
   "metadata": {
    "papermill": {
     "duration": 0.091264,
     "end_time": "2021-11-16T13:42:43.991354",
     "exception": false,
     "start_time": "2021-11-16T13:42:43.900090",
     "status": "completed"
    },
    "tags": []
   },
   "source": [
    "## Model Building"
   ]
  },
  {
   "cell_type": "code",
   "execution_count": 36,
   "id": "c04ad0f1",
   "metadata": {
    "execution": {
     "iopub.execute_input": "2021-11-16T13:42:44.177921Z",
     "iopub.status.busy": "2021-11-16T13:42:44.177080Z",
     "iopub.status.idle": "2021-11-16T13:42:44.233048Z",
     "shell.execute_reply": "2021-11-16T13:42:44.232360Z",
     "shell.execute_reply.started": "2021-11-16T13:37:22.202233Z"
    },
    "papermill": {
     "duration": 0.152081,
     "end_time": "2021-11-16T13:42:44.233223",
     "exception": false,
     "start_time": "2021-11-16T13:42:44.081142",
     "status": "completed"
    },
    "tags": []
   },
   "outputs": [],
   "source": [
    "from sklearn.model_selection import train_test_split"
   ]
  },
  {
   "cell_type": "code",
   "execution_count": 37,
   "id": "c9b2ba8f",
   "metadata": {
    "execution": {
     "iopub.execute_input": "2021-11-16T13:42:44.432861Z",
     "iopub.status.busy": "2021-11-16T13:42:44.431945Z",
     "iopub.status.idle": "2021-11-16T13:42:44.434972Z",
     "shell.execute_reply": "2021-11-16T13:42:44.434209Z",
     "shell.execute_reply.started": "2021-11-16T13:37:22.213120Z"
    },
    "papermill": {
     "duration": 0.107642,
     "end_time": "2021-11-16T13:42:44.435133",
     "exception": false,
     "start_time": "2021-11-16T13:42:44.327491",
     "status": "completed"
    },
    "tags": []
   },
   "outputs": [],
   "source": [
    "y= df.pop('LeaveOrNot')\n",
    "X= df"
   ]
  },
  {
   "cell_type": "code",
   "execution_count": 38,
   "id": "e8a80818",
   "metadata": {
    "execution": {
     "iopub.execute_input": "2021-11-16T13:42:44.625454Z",
     "iopub.status.busy": "2021-11-16T13:42:44.624756Z",
     "iopub.status.idle": "2021-11-16T13:42:44.634778Z",
     "shell.execute_reply": "2021-11-16T13:42:44.634125Z",
     "shell.execute_reply.started": "2021-11-16T13:37:22.228768Z"
    },
    "papermill": {
     "duration": 0.108475,
     "end_time": "2021-11-16T13:42:44.635159",
     "exception": false,
     "start_time": "2021-11-16T13:42:44.526684",
     "status": "completed"
    },
    "tags": []
   },
   "outputs": [],
   "source": [
    "X_train, X_test, y_train, y_test= train_test_split(X,y,test_size=0.3,random_state=42)"
   ]
  },
  {
   "cell_type": "code",
   "execution_count": 39,
   "id": "ffb9dded",
   "metadata": {
    "execution": {
     "iopub.execute_input": "2021-11-16T13:42:44.828046Z",
     "iopub.status.busy": "2021-11-16T13:42:44.827217Z",
     "iopub.status.idle": "2021-11-16T13:42:44.829434Z",
     "shell.execute_reply": "2021-11-16T13:42:44.830122Z",
     "shell.execute_reply.started": "2021-11-16T13:37:22.243358Z"
    },
    "papermill": {
     "duration": 0.100364,
     "end_time": "2021-11-16T13:42:44.830305",
     "exception": false,
     "start_time": "2021-11-16T13:42:44.729941",
     "status": "completed"
    },
    "tags": []
   },
   "outputs": [],
   "source": [
    "scores=[]\n",
    "\n",
    "from sklearn.metrics import f1_score"
   ]
  },
  {
   "cell_type": "markdown",
   "id": "b20ee848",
   "metadata": {
    "papermill": {
     "duration": 0.091413,
     "end_time": "2021-11-16T13:42:45.013018",
     "exception": false,
     "start_time": "2021-11-16T13:42:44.921605",
     "status": "completed"
    },
    "tags": []
   },
   "source": [
    "## Decision Tree Classifier"
   ]
  },
  {
   "cell_type": "code",
   "execution_count": 40,
   "id": "7d0be54d",
   "metadata": {
    "execution": {
     "iopub.execute_input": "2021-11-16T13:42:45.203481Z",
     "iopub.status.busy": "2021-11-16T13:42:45.202171Z",
     "iopub.status.idle": "2021-11-16T13:42:45.364150Z",
     "shell.execute_reply": "2021-11-16T13:42:45.363443Z",
     "shell.execute_reply.started": "2021-11-16T13:37:22.252132Z"
    },
    "papermill": {
     "duration": 0.260241,
     "end_time": "2021-11-16T13:42:45.364319",
     "exception": false,
     "start_time": "2021-11-16T13:42:45.104078",
     "status": "completed"
    },
    "tags": []
   },
   "outputs": [],
   "source": [
    "from sklearn.tree import DecisionTreeClassifier"
   ]
  },
  {
   "cell_type": "code",
   "execution_count": 41,
   "id": "43a44374",
   "metadata": {
    "execution": {
     "iopub.execute_input": "2021-11-16T13:42:45.556859Z",
     "iopub.status.busy": "2021-11-16T13:42:45.556072Z",
     "iopub.status.idle": "2021-11-16T13:42:45.569431Z",
     "shell.execute_reply": "2021-11-16T13:42:45.568744Z",
     "shell.execute_reply.started": "2021-11-16T13:37:22.264149Z"
    },
    "papermill": {
     "duration": 0.11311,
     "end_time": "2021-11-16T13:42:45.569583",
     "exception": false,
     "start_time": "2021-11-16T13:42:45.456473",
     "status": "completed"
    },
    "tags": []
   },
   "outputs": [
    {
     "data": {
      "text/plain": [
       "DecisionTreeClassifier()"
      ]
     },
     "execution_count": 41,
     "metadata": {},
     "output_type": "execute_result"
    }
   ],
   "source": [
    "model= DecisionTreeClassifier()\n",
    "model.fit(X_train,y_train)"
   ]
  },
  {
   "cell_type": "code",
   "execution_count": 42,
   "id": "ad4d0eb0",
   "metadata": {
    "execution": {
     "iopub.execute_input": "2021-11-16T13:42:45.753374Z",
     "iopub.status.busy": "2021-11-16T13:42:45.752294Z",
     "iopub.status.idle": "2021-11-16T13:42:45.758607Z",
     "shell.execute_reply": "2021-11-16T13:42:45.759329Z",
     "shell.execute_reply.started": "2021-11-16T13:37:22.286074Z"
    },
    "papermill": {
     "duration": 0.101251,
     "end_time": "2021-11-16T13:42:45.759521",
     "exception": false,
     "start_time": "2021-11-16T13:42:45.658270",
     "status": "completed"
    },
    "tags": []
   },
   "outputs": [],
   "source": [
    "# Prediction on train\n",
    "y_train_pred= model.predict(X_train)"
   ]
  },
  {
   "cell_type": "code",
   "execution_count": 43,
   "id": "433e1ece",
   "metadata": {
    "execution": {
     "iopub.execute_input": "2021-11-16T13:42:45.940380Z",
     "iopub.status.busy": "2021-11-16T13:42:45.939331Z",
     "iopub.status.idle": "2021-11-16T13:42:45.945408Z",
     "shell.execute_reply": "2021-11-16T13:42:45.946038Z",
     "shell.execute_reply.started": "2021-11-16T13:37:22.293138Z"
    },
    "papermill": {
     "duration": 0.098129,
     "end_time": "2021-11-16T13:42:45.946224",
     "exception": false,
     "start_time": "2021-11-16T13:42:45.848095",
     "status": "completed"
    },
    "tags": []
   },
   "outputs": [],
   "source": [
    "# Prediction on train\n",
    "y_test_pred= model.predict(X_test)"
   ]
  },
  {
   "cell_type": "code",
   "execution_count": 44,
   "id": "aa9ffca2",
   "metadata": {
    "execution": {
     "iopub.execute_input": "2021-11-16T13:42:46.131720Z",
     "iopub.status.busy": "2021-11-16T13:42:46.130661Z",
     "iopub.status.idle": "2021-11-16T13:42:46.139703Z",
     "shell.execute_reply": "2021-11-16T13:42:46.140371Z",
     "shell.execute_reply.started": "2021-11-16T13:37:22.306508Z"
    },
    "papermill": {
     "duration": 0.103472,
     "end_time": "2021-11-16T13:42:46.140559",
     "exception": false,
     "start_time": "2021-11-16T13:42:46.037087",
     "status": "completed"
    },
    "tags": []
   },
   "outputs": [
    {
     "data": {
      "text/plain": [
       "0.9315320847405588"
      ]
     },
     "execution_count": 44,
     "metadata": {},
     "output_type": "execute_result"
    }
   ],
   "source": [
    "# Performance on test dataset\n",
    "## Accuracy\n",
    "model.score(X_train,y_train)"
   ]
  },
  {
   "cell_type": "code",
   "execution_count": 45,
   "id": "0ab3f041",
   "metadata": {
    "execution": {
     "iopub.execute_input": "2021-11-16T13:42:46.327696Z",
     "iopub.status.busy": "2021-11-16T13:42:46.326568Z",
     "iopub.status.idle": "2021-11-16T13:42:46.335065Z",
     "shell.execute_reply": "2021-11-16T13:42:46.334259Z",
     "shell.execute_reply.started": "2021-11-16T13:37:22.320726Z"
    },
    "papermill": {
     "duration": 0.103278,
     "end_time": "2021-11-16T13:42:46.335243",
     "exception": false,
     "start_time": "2021-11-16T13:42:46.231965",
     "status": "completed"
    },
    "tags": []
   },
   "outputs": [
    {
     "data": {
      "text/plain": [
       "0.8925301204819277"
      ]
     },
     "execution_count": 45,
     "metadata": {},
     "output_type": "execute_result"
    }
   ],
   "source": [
    "## f1-score\n",
    "f1_score(y_train,y_train_pred)"
   ]
  },
  {
   "cell_type": "code",
   "execution_count": 46,
   "id": "1dd819fa",
   "metadata": {
    "execution": {
     "iopub.execute_input": "2021-11-16T13:42:46.524362Z",
     "iopub.status.busy": "2021-11-16T13:42:46.523317Z",
     "iopub.status.idle": "2021-11-16T13:42:46.531784Z",
     "shell.execute_reply": "2021-11-16T13:42:46.532324Z",
     "shell.execute_reply.started": "2021-11-16T13:37:22.334429Z"
    },
    "papermill": {
     "duration": 0.104096,
     "end_time": "2021-11-16T13:42:46.532510",
     "exception": false,
     "start_time": "2021-11-16T13:42:46.428414",
     "status": "completed"
    },
    "tags": []
   },
   "outputs": [
    {
     "data": {
      "text/plain": [
       "0.8302292263610315"
      ]
     },
     "execution_count": 46,
     "metadata": {},
     "output_type": "execute_result"
    }
   ],
   "source": [
    "# Performance on test dataset\n",
    "## Accuracy\n",
    "model.score(X_test,y_test)"
   ]
  },
  {
   "cell_type": "code",
   "execution_count": 47,
   "id": "1caea3ad",
   "metadata": {
    "execution": {
     "iopub.execute_input": "2021-11-16T13:42:46.720527Z",
     "iopub.status.busy": "2021-11-16T13:42:46.719485Z",
     "iopub.status.idle": "2021-11-16T13:42:46.725575Z",
     "shell.execute_reply": "2021-11-16T13:42:46.726283Z",
     "shell.execute_reply.started": "2021-11-16T13:37:22.346137Z"
    },
    "papermill": {
     "duration": 0.102055,
     "end_time": "2021-11-16T13:42:46.726467",
     "exception": false,
     "start_time": "2021-11-16T13:42:46.624412",
     "status": "completed"
    },
    "tags": []
   },
   "outputs": [
    {
     "data": {
      "text/plain": [
       "0.7363737486095663"
      ]
     },
     "execution_count": 47,
     "metadata": {},
     "output_type": "execute_result"
    }
   ],
   "source": [
    "## f1-score\n",
    "f1_score(y_test,y_test_pred)"
   ]
  },
  {
   "cell_type": "code",
   "execution_count": 48,
   "id": "336046a2",
   "metadata": {
    "execution": {
     "iopub.execute_input": "2021-11-16T13:42:46.912447Z",
     "iopub.status.busy": "2021-11-16T13:42:46.911752Z",
     "iopub.status.idle": "2021-11-16T13:42:46.921107Z",
     "shell.execute_reply": "2021-11-16T13:42:46.921739Z",
     "shell.execute_reply.started": "2021-11-16T13:37:22.358770Z"
    },
    "papermill": {
     "duration": 0.105348,
     "end_time": "2021-11-16T13:42:46.921933",
     "exception": false,
     "start_time": "2021-11-16T13:42:46.816585",
     "status": "completed"
    },
    "tags": []
   },
   "outputs": [],
   "source": [
    "scores.append({\n",
    "        'model': 'Decision Tree Classifier',\n",
    "        'score': model.score(X_test,y_test),\n",
    "        'f1_score' : f1_score(y_test,y_test_pred)\n",
    "    })"
   ]
  },
  {
   "cell_type": "markdown",
   "id": "5a76545a",
   "metadata": {
    "papermill": {
     "duration": 0.096327,
     "end_time": "2021-11-16T13:42:47.110383",
     "exception": false,
     "start_time": "2021-11-16T13:42:47.014056",
     "status": "completed"
    },
    "tags": []
   },
   "source": [
    "## Random Forest Classifier "
   ]
  },
  {
   "cell_type": "code",
   "execution_count": 49,
   "id": "9fa53114",
   "metadata": {
    "execution": {
     "iopub.execute_input": "2021-11-16T13:42:47.306434Z",
     "iopub.status.busy": "2021-11-16T13:42:47.305699Z",
     "iopub.status.idle": "2021-11-16T13:42:47.339157Z",
     "shell.execute_reply": "2021-11-16T13:42:47.340026Z",
     "shell.execute_reply.started": "2021-11-16T13:37:22.370075Z"
    },
    "papermill": {
     "duration": 0.13546,
     "end_time": "2021-11-16T13:42:47.340346",
     "exception": false,
     "start_time": "2021-11-16T13:42:47.204886",
     "status": "completed"
    },
    "tags": []
   },
   "outputs": [],
   "source": [
    "from sklearn.ensemble import RandomForestClassifier"
   ]
  },
  {
   "cell_type": "code",
   "execution_count": 50,
   "id": "308f32ba",
   "metadata": {
    "execution": {
     "iopub.execute_input": "2021-11-16T13:42:47.532340Z",
     "iopub.status.busy": "2021-11-16T13:42:47.531655Z",
     "iopub.status.idle": "2021-11-16T13:42:47.536854Z",
     "shell.execute_reply": "2021-11-16T13:42:47.537522Z",
     "shell.execute_reply.started": "2021-11-16T13:37:22.378042Z"
    },
    "papermill": {
     "duration": 0.102469,
     "end_time": "2021-11-16T13:42:47.537740",
     "exception": false,
     "start_time": "2021-11-16T13:42:47.435271",
     "status": "completed"
    },
    "tags": []
   },
   "outputs": [],
   "source": [
    "model= RandomForestClassifier(n_estimators=50, random_state=42)"
   ]
  },
  {
   "cell_type": "code",
   "execution_count": 51,
   "id": "44329c3b",
   "metadata": {
    "execution": {
     "iopub.execute_input": "2021-11-16T13:42:47.733805Z",
     "iopub.status.busy": "2021-11-16T13:42:47.733045Z",
     "iopub.status.idle": "2021-11-16T13:42:47.924115Z",
     "shell.execute_reply": "2021-11-16T13:42:47.924796Z",
     "shell.execute_reply.started": "2021-11-16T13:37:22.388953Z"
    },
    "papermill": {
     "duration": 0.293038,
     "end_time": "2021-11-16T13:42:47.924984",
     "exception": false,
     "start_time": "2021-11-16T13:42:47.631946",
     "status": "completed"
    },
    "tags": []
   },
   "outputs": [
    {
     "data": {
      "text/plain": [
       "RandomForestClassifier(n_estimators=50, random_state=42)"
      ]
     },
     "execution_count": 51,
     "metadata": {},
     "output_type": "execute_result"
    }
   ],
   "source": [
    "model.fit(X_train,y_train)"
   ]
  },
  {
   "cell_type": "code",
   "execution_count": 52,
   "id": "a357f18a",
   "metadata": {
    "execution": {
     "iopub.execute_input": "2021-11-16T13:42:48.117177Z",
     "iopub.status.busy": "2021-11-16T13:42:48.116432Z",
     "iopub.status.idle": "2021-11-16T13:42:48.174198Z",
     "shell.execute_reply": "2021-11-16T13:42:48.174849Z",
     "shell.execute_reply.started": "2021-11-16T13:37:22.587354Z"
    },
    "papermill": {
     "duration": 0.154696,
     "end_time": "2021-11-16T13:42:48.175067",
     "exception": false,
     "start_time": "2021-11-16T13:42:48.020371",
     "status": "completed"
    },
    "tags": []
   },
   "outputs": [],
   "source": [
    "# Prediction on train\n",
    "y_train_pred= model.predict(X_train)\n",
    "\n",
    "# Prediction on test\n",
    "y_test_pred= model.predict(X_test)"
   ]
  },
  {
   "cell_type": "code",
   "execution_count": 53,
   "id": "d55bb6a9",
   "metadata": {
    "execution": {
     "iopub.execute_input": "2021-11-16T13:42:48.369101Z",
     "iopub.status.busy": "2021-11-16T13:42:48.368350Z",
     "iopub.status.idle": "2021-11-16T13:42:48.406819Z",
     "shell.execute_reply": "2021-11-16T13:42:48.407426Z",
     "shell.execute_reply.started": "2021-11-16T13:37:22.646787Z"
    },
    "papermill": {
     "duration": 0.136764,
     "end_time": "2021-11-16T13:42:48.407631",
     "exception": false,
     "start_time": "2021-11-16T13:42:48.270867",
     "status": "completed"
    },
    "tags": []
   },
   "outputs": [
    {
     "data": {
      "text/plain": [
       "0.9306109917101627"
      ]
     },
     "execution_count": 53,
     "metadata": {},
     "output_type": "execute_result"
    }
   ],
   "source": [
    "# Performance on train dataset\n",
    "## Accuracy\n",
    "model.score(X_train,y_train)"
   ]
  },
  {
   "cell_type": "code",
   "execution_count": 54,
   "id": "46b46dcc",
   "metadata": {
    "execution": {
     "iopub.execute_input": "2021-11-16T13:42:48.601194Z",
     "iopub.status.busy": "2021-11-16T13:42:48.600417Z",
     "iopub.status.idle": "2021-11-16T13:42:48.608730Z",
     "shell.execute_reply": "2021-11-16T13:42:48.609395Z",
     "shell.execute_reply.started": "2021-11-16T13:37:22.688307Z"
    },
    "papermill": {
     "duration": 0.107014,
     "end_time": "2021-11-16T13:42:48.609583",
     "exception": false,
     "start_time": "2021-11-16T13:42:48.502569",
     "status": "completed"
    },
    "tags": []
   },
   "outputs": [
    {
     "data": {
      "text/plain": [
       "0.8939962476547842"
      ]
     },
     "execution_count": 54,
     "metadata": {},
     "output_type": "execute_result"
    }
   ],
   "source": [
    "## f1-score\n",
    "f1_score(y_train,y_train_pred)"
   ]
  },
  {
   "cell_type": "code",
   "execution_count": 55,
   "id": "d86ede0b",
   "metadata": {
    "execution": {
     "iopub.execute_input": "2021-11-16T13:42:48.797442Z",
     "iopub.status.busy": "2021-11-16T13:42:48.796767Z",
     "iopub.status.idle": "2021-11-16T13:42:48.824101Z",
     "shell.execute_reply": "2021-11-16T13:42:48.823474Z",
     "shell.execute_reply.started": "2021-11-16T13:37:22.697160Z"
    },
    "papermill": {
     "duration": 0.123539,
     "end_time": "2021-11-16T13:42:48.824258",
     "exception": false,
     "start_time": "2021-11-16T13:42:48.700719",
     "status": "completed"
    },
    "tags": []
   },
   "outputs": [
    {
     "data": {
      "text/plain": [
       "0.8481375358166189"
      ]
     },
     "execution_count": 55,
     "metadata": {},
     "output_type": "execute_result"
    }
   ],
   "source": [
    "# Performance on test dataset\n",
    "## Accuracy\n",
    "model.score(X_test,y_test)"
   ]
  },
  {
   "cell_type": "code",
   "execution_count": 56,
   "id": "32d45d81",
   "metadata": {
    "execution": {
     "iopub.execute_input": "2021-11-16T13:42:49.015761Z",
     "iopub.status.busy": "2021-11-16T13:42:49.015014Z",
     "iopub.status.idle": "2021-11-16T13:42:49.021841Z",
     "shell.execute_reply": "2021-11-16T13:42:49.022524Z",
     "shell.execute_reply.started": "2021-11-16T13:37:22.729620Z"
    },
    "papermill": {
     "duration": 0.106208,
     "end_time": "2021-11-16T13:42:49.022733",
     "exception": false,
     "start_time": "2021-11-16T13:42:48.916525",
     "status": "completed"
    },
    "tags": []
   },
   "outputs": [
    {
     "data": {
      "text/plain": [
       "0.7617977528089888"
      ]
     },
     "execution_count": 56,
     "metadata": {},
     "output_type": "execute_result"
    }
   ],
   "source": [
    "## f1-score\n",
    "f1_score(y_test,y_test_pred)"
   ]
  },
  {
   "cell_type": "code",
   "execution_count": 57,
   "id": "533d6ae9",
   "metadata": {
    "execution": {
     "iopub.execute_input": "2021-11-16T13:42:49.224536Z",
     "iopub.status.busy": "2021-11-16T13:42:49.223418Z",
     "iopub.status.idle": "2021-11-16T13:42:49.253688Z",
     "shell.execute_reply": "2021-11-16T13:42:49.253081Z",
     "shell.execute_reply.started": "2021-11-16T13:37:22.740748Z"
    },
    "papermill": {
     "duration": 0.133798,
     "end_time": "2021-11-16T13:42:49.253851",
     "exception": false,
     "start_time": "2021-11-16T13:42:49.120053",
     "status": "completed"
    },
    "tags": []
   },
   "outputs": [],
   "source": [
    "scores.append({\n",
    "        'model': 'Random Forest Classifier',\n",
    "        'score': model.score(X_test,y_test),\n",
    "        'f1_score' : f1_score(y_test,y_test_pred)\n",
    "    })"
   ]
  },
  {
   "cell_type": "markdown",
   "id": "23faa603",
   "metadata": {
    "papermill": {
     "duration": 0.096384,
     "end_time": "2021-11-16T13:42:49.444937",
     "exception": false,
     "start_time": "2021-11-16T13:42:49.348553",
     "status": "completed"
    },
    "tags": []
   },
   "source": [
    "## Gradient Boosting Classifier"
   ]
  },
  {
   "cell_type": "code",
   "execution_count": 58,
   "id": "6e4d72d8",
   "metadata": {
    "execution": {
     "iopub.execute_input": "2021-11-16T13:42:49.642958Z",
     "iopub.status.busy": "2021-11-16T13:42:49.642196Z",
     "iopub.status.idle": "2021-11-16T13:42:49.645696Z",
     "shell.execute_reply": "2021-11-16T13:42:49.646245Z",
     "shell.execute_reply.started": "2021-11-16T13:37:22.771324Z"
    },
    "papermill": {
     "duration": 0.106632,
     "end_time": "2021-11-16T13:42:49.646425",
     "exception": false,
     "start_time": "2021-11-16T13:42:49.539793",
     "status": "completed"
    },
    "tags": []
   },
   "outputs": [],
   "source": [
    "from sklearn.ensemble import GradientBoostingClassifier"
   ]
  },
  {
   "cell_type": "code",
   "execution_count": 59,
   "id": "fedcb556",
   "metadata": {
    "execution": {
     "iopub.execute_input": "2021-11-16T13:42:49.837469Z",
     "iopub.status.busy": "2021-11-16T13:42:49.836605Z",
     "iopub.status.idle": "2021-11-16T13:42:49.839836Z",
     "shell.execute_reply": "2021-11-16T13:42:49.840356Z",
     "shell.execute_reply.started": "2021-11-16T13:37:22.777597Z"
    },
    "papermill": {
     "duration": 0.101469,
     "end_time": "2021-11-16T13:42:49.840542",
     "exception": false,
     "start_time": "2021-11-16T13:42:49.739073",
     "status": "completed"
    },
    "tags": []
   },
   "outputs": [],
   "source": [
    "model=  GradientBoostingClassifier()"
   ]
  },
  {
   "cell_type": "code",
   "execution_count": 60,
   "id": "b4521dfd",
   "metadata": {
    "execution": {
     "iopub.execute_input": "2021-11-16T13:42:50.030766Z",
     "iopub.status.busy": "2021-11-16T13:42:50.030032Z",
     "iopub.status.idle": "2021-11-16T13:42:50.272076Z",
     "shell.execute_reply": "2021-11-16T13:42:50.272592Z",
     "shell.execute_reply.started": "2021-11-16T13:37:22.788879Z"
    },
    "papermill": {
     "duration": 0.337914,
     "end_time": "2021-11-16T13:42:50.272800",
     "exception": false,
     "start_time": "2021-11-16T13:42:49.934886",
     "status": "completed"
    },
    "tags": []
   },
   "outputs": [
    {
     "data": {
      "text/plain": [
       "GradientBoostingClassifier()"
      ]
     },
     "execution_count": 60,
     "metadata": {},
     "output_type": "execute_result"
    }
   ],
   "source": [
    "model.fit(X_train,y_train)"
   ]
  },
  {
   "cell_type": "code",
   "execution_count": 61,
   "id": "406809f3",
   "metadata": {
    "execution": {
     "iopub.execute_input": "2021-11-16T13:42:50.464080Z",
     "iopub.status.busy": "2021-11-16T13:42:50.463240Z",
     "iopub.status.idle": "2021-11-16T13:42:50.480473Z",
     "shell.execute_reply": "2021-11-16T13:42:50.481129Z",
     "shell.execute_reply.started": "2021-11-16T13:37:23.058921Z"
    },
    "papermill": {
     "duration": 0.116494,
     "end_time": "2021-11-16T13:42:50.481348",
     "exception": false,
     "start_time": "2021-11-16T13:42:50.364854",
     "status": "completed"
    },
    "tags": []
   },
   "outputs": [],
   "source": [
    "# Prediction on train\n",
    "y_train_pred= model.predict(X_train)\n",
    "\n",
    "# Prediction on test\n",
    "y_test_pred= model.predict(X_test)"
   ]
  },
  {
   "cell_type": "code",
   "execution_count": 62,
   "id": "9fe78acd",
   "metadata": {
    "execution": {
     "iopub.execute_input": "2021-11-16T13:42:50.679672Z",
     "iopub.status.busy": "2021-11-16T13:42:50.678551Z",
     "iopub.status.idle": "2021-11-16T13:42:50.690885Z",
     "shell.execute_reply": "2021-11-16T13:42:50.691517Z",
     "shell.execute_reply.started": "2021-11-16T13:37:23.079805Z"
    },
    "papermill": {
     "duration": 0.116642,
     "end_time": "2021-11-16T13:42:50.691820",
     "exception": false,
     "start_time": "2021-11-16T13:42:50.575178",
     "status": "completed"
    },
    "tags": []
   },
   "outputs": [
    {
     "data": {
      "text/plain": [
       "0.8474055879643844"
      ]
     },
     "execution_count": 62,
     "metadata": {},
     "output_type": "execute_result"
    }
   ],
   "source": [
    "# Performance on train dataset\n",
    "## Accuracy\n",
    "model.score(X_train,y_train)"
   ]
  },
  {
   "cell_type": "code",
   "execution_count": 63,
   "id": "513341b7",
   "metadata": {
    "execution": {
     "iopub.execute_input": "2021-11-16T13:42:50.891021Z",
     "iopub.status.busy": "2021-11-16T13:42:50.890300Z",
     "iopub.status.idle": "2021-11-16T13:42:50.898121Z",
     "shell.execute_reply": "2021-11-16T13:42:50.897503Z",
     "shell.execute_reply.started": "2021-11-16T13:37:23.098132Z"
    },
    "papermill": {
     "duration": 0.110122,
     "end_time": "2021-11-16T13:42:50.898279",
     "exception": false,
     "start_time": "2021-11-16T13:42:50.788157",
     "status": "completed"
    },
    "tags": []
   },
   "outputs": [
    {
     "data": {
      "text/plain": [
       "0.7423535510627268"
      ]
     },
     "execution_count": 63,
     "metadata": {},
     "output_type": "execute_result"
    }
   ],
   "source": [
    "## f1-score\n",
    "f1_score(y_train,y_train_pred)"
   ]
  },
  {
   "cell_type": "code",
   "execution_count": 64,
   "id": "cf912a22",
   "metadata": {
    "execution": {
     "iopub.execute_input": "2021-11-16T13:42:51.104051Z",
     "iopub.status.busy": "2021-11-16T13:42:51.102975Z",
     "iopub.status.idle": "2021-11-16T13:42:51.111640Z",
     "shell.execute_reply": "2021-11-16T13:42:51.112158Z",
     "shell.execute_reply.started": "2021-11-16T13:37:23.109239Z"
    },
    "papermill": {
     "duration": 0.114006,
     "end_time": "2021-11-16T13:42:51.112349",
     "exception": false,
     "start_time": "2021-11-16T13:42:50.998343",
     "status": "completed"
    },
    "tags": []
   },
   "outputs": [
    {
     "data": {
      "text/plain": [
       "0.8581661891117478"
      ]
     },
     "execution_count": 64,
     "metadata": {},
     "output_type": "execute_result"
    }
   ],
   "source": [
    "# Performance on test dataset\n",
    "## Accuracy\n",
    "model.score(X_test,y_test)"
   ]
  },
  {
   "cell_type": "code",
   "execution_count": 65,
   "id": "6aabf6d9",
   "metadata": {
    "execution": {
     "iopub.execute_input": "2021-11-16T13:42:51.307784Z",
     "iopub.status.busy": "2021-11-16T13:42:51.307084Z",
     "iopub.status.idle": "2021-11-16T13:42:51.313488Z",
     "shell.execute_reply": "2021-11-16T13:42:51.314115Z",
     "shell.execute_reply.started": "2021-11-16T13:37:23.122859Z"
    },
    "papermill": {
     "duration": 0.106751,
     "end_time": "2021-11-16T13:42:51.314302",
     "exception": false,
     "start_time": "2021-11-16T13:42:51.207551",
     "status": "completed"
    },
    "tags": []
   },
   "outputs": [
    {
     "data": {
      "text/plain": [
       "0.7620192307692308"
      ]
     },
     "execution_count": 65,
     "metadata": {},
     "output_type": "execute_result"
    }
   ],
   "source": [
    "## f1-score\n",
    "f1_score(y_test,y_test_pred)"
   ]
  },
  {
   "cell_type": "code",
   "execution_count": 66,
   "id": "004960ae",
   "metadata": {
    "execution": {
     "iopub.execute_input": "2021-11-16T13:42:51.513321Z",
     "iopub.status.busy": "2021-11-16T13:42:51.512628Z",
     "iopub.status.idle": "2021-11-16T13:42:51.524694Z",
     "shell.execute_reply": "2021-11-16T13:42:51.525269Z",
     "shell.execute_reply.started": "2021-11-16T13:37:23.131035Z"
    },
    "papermill": {
     "duration": 0.114018,
     "end_time": "2021-11-16T13:42:51.525468",
     "exception": false,
     "start_time": "2021-11-16T13:42:51.411450",
     "status": "completed"
    },
    "tags": []
   },
   "outputs": [],
   "source": [
    "scores.append({\n",
    "        'model': 'Gradient Boosting Classifier',\n",
    "        'score': model.score(X_test,y_test),\n",
    "        'f1_score' : f1_score(y_test,y_test_pred)\n",
    "    })"
   ]
  },
  {
   "cell_type": "code",
   "execution_count": 67,
   "id": "8105b87e",
   "metadata": {
    "execution": {
     "iopub.execute_input": "2021-11-16T13:42:51.723129Z",
     "iopub.status.busy": "2021-11-16T13:42:51.722368Z",
     "iopub.status.idle": "2021-11-16T13:42:51.734471Z",
     "shell.execute_reply": "2021-11-16T13:42:51.735369Z",
     "shell.execute_reply.started": "2021-11-16T13:37:23.149334Z"
    },
    "papermill": {
     "duration": 0.11398,
     "end_time": "2021-11-16T13:42:51.735563",
     "exception": false,
     "start_time": "2021-11-16T13:42:51.621583",
     "status": "completed"
    },
    "tags": []
   },
   "outputs": [
    {
     "data": {
      "text/html": [
       "<div>\n",
       "<style scoped>\n",
       "    .dataframe tbody tr th:only-of-type {\n",
       "        vertical-align: middle;\n",
       "    }\n",
       "\n",
       "    .dataframe tbody tr th {\n",
       "        vertical-align: top;\n",
       "    }\n",
       "\n",
       "    .dataframe thead th {\n",
       "        text-align: right;\n",
       "    }\n",
       "</style>\n",
       "<table border=\"1\" class=\"dataframe\">\n",
       "  <thead>\n",
       "    <tr style=\"text-align: right;\">\n",
       "      <th></th>\n",
       "      <th>model</th>\n",
       "      <th>score</th>\n",
       "      <th>f1_score</th>\n",
       "    </tr>\n",
       "  </thead>\n",
       "  <tbody>\n",
       "    <tr>\n",
       "      <th>2</th>\n",
       "      <td>Gradient Boosting Classifier</td>\n",
       "      <td>0.858166</td>\n",
       "      <td>0.762019</td>\n",
       "    </tr>\n",
       "    <tr>\n",
       "      <th>1</th>\n",
       "      <td>Random Forest Classifier</td>\n",
       "      <td>0.848138</td>\n",
       "      <td>0.761798</td>\n",
       "    </tr>\n",
       "    <tr>\n",
       "      <th>0</th>\n",
       "      <td>Decision Tree Classifier</td>\n",
       "      <td>0.830229</td>\n",
       "      <td>0.736374</td>\n",
       "    </tr>\n",
       "  </tbody>\n",
       "</table>\n",
       "</div>"
      ],
      "text/plain": [
       "                          model     score  f1_score\n",
       "2  Gradient Boosting Classifier  0.858166  0.762019\n",
       "1      Random Forest Classifier  0.848138  0.761798\n",
       "0      Decision Tree Classifier  0.830229  0.736374"
      ]
     },
     "execution_count": 67,
     "metadata": {},
     "output_type": "execute_result"
    }
   ],
   "source": [
    "Score = pd.DataFrame(scores,columns=['model','score','f1_score'])\n",
    "Score.sort_values('score',ascending=False,inplace=True)\n",
    "Score"
   ]
  },
  {
   "cell_type": "markdown",
   "id": "4f3170fd",
   "metadata": {
    "papermill": {
     "duration": 0.101801,
     "end_time": "2021-11-16T13:42:51.935213",
     "exception": false,
     "start_time": "2021-11-16T13:42:51.833412",
     "status": "completed"
    },
    "tags": []
   },
   "source": [
    "#### Conclusion: Gradient Boosting Classifier is the best model among all in terms of performance on unseen data (test data)"
   ]
  },
  {
   "cell_type": "code",
   "execution_count": null,
   "id": "ae82b3cc",
   "metadata": {
    "papermill": {
     "duration": 0.098215,
     "end_time": "2021-11-16T13:42:52.132905",
     "exception": false,
     "start_time": "2021-11-16T13:42:52.034690",
     "status": "completed"
    },
    "tags": []
   },
   "outputs": [],
   "source": []
  }
 ],
 "metadata": {
  "kernelspec": {
   "display_name": "Python 3",
   "language": "python",
   "name": "python3"
  },
  "language_info": {
   "codemirror_mode": {
    "name": "ipython",
    "version": 3
   },
   "file_extension": ".py",
   "mimetype": "text/x-python",
   "name": "python",
   "nbconvert_exporter": "python",
   "pygments_lexer": "ipython3",
   "version": "3.7.10"
  },
  "papermill": {
   "default_parameters": {},
   "duration": 32.534243,
   "end_time": "2021-11-16T13:42:53.145175",
   "environment_variables": {},
   "exception": null,
   "input_path": "__notebook__.ipynb",
   "output_path": "__notebook__.ipynb",
   "parameters": {},
   "start_time": "2021-11-16T13:42:20.610932",
   "version": "2.3.3"
  }
 },
 "nbformat": 4,
 "nbformat_minor": 5
}
